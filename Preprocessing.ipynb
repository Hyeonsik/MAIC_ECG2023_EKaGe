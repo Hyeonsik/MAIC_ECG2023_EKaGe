{
 "cells": [
  {
   "cell_type": "code",
   "execution_count": 17,
   "id": "d6daff60-4160-4ac9-bbb2-e5d145280611",
   "metadata": {},
   "outputs": [],
   "source": [
    "import sys\n",
    "sys.path.append('./.local/lib/python3.8/site-packages')\n",
    "sys.path.append('/usr/lib/python3/dist-packages')"
   ]
  },
  {
   "cell_type": "code",
   "execution_count": 16,
   "id": "f41e7548-9910-49be-96b9-dd1369358ebc",
   "metadata": {},
   "outputs": [],
   "source": [
    "import zipfile\n",
    "\n",
    "zipf = zipfile.ZipFile('ECG_adult_numpy_train.zip')\n",
    "zipf.extractall('dataset/ECG_adult_numpy_train')"
   ]
  },
  {
   "cell_type": "code",
   "execution_count": 53,
   "id": "886d5460-c145-4e97-b315-419e174ba72a",
   "metadata": {},
   "outputs": [
    {
     "data": {
      "text/plain": [
       "'dataset/ECG_adult_numpy_train2'"
      ]
     },
     "execution_count": 53,
     "metadata": {},
     "output_type": "execute_result"
    }
   ],
   "source": [
    "import shutil\n",
    "\n",
    "shutil.move('dataset/ECG_adult_numpy_train/ECG_adult_numpy_train2', 'dataset')"
   ]
  },
  {
   "cell_type": "markdown",
   "id": "16adc5f0-9954-432b-9dcc-9fa661bc583a",
   "metadata": {},
   "source": [
    "# Preprocess"
   ]
  },
  {
   "cell_type": "markdown",
   "id": "c613da5f-b247-4d93-8150-587de323355c",
   "metadata": {},
   "source": [
    "## Filters"
   ]
  },
  {
   "cell_type": "code",
   "execution_count": 1,
   "id": "02fd263d-2495-4fcb-95f8-4cffa0c3d60f",
   "metadata": {},
   "outputs": [],
   "source": [
    "import sys\n",
    "sys.path.append('./.local/lib/python3.8/site-packages')\n",
    "sys.path.append('/usr/lib/python3/dist-packages')\n",
    "\n",
    "import itertools as it\n",
    "import os\n",
    "import pandas as pd\n",
    "import numpy as np\n",
    "import random\n",
    "import pickle\n",
    "import matplotlib.pyplot as plt\n",
    "from scipy import stats\n",
    "import statsmodels.api as sm\n",
    "import time, datetime\n",
    "import neurokit2 as nk\n",
    "from tqdm import tqdm\n",
    "\n",
    "SRATE = 500\n",
    "\n",
    "def ECG_filter(seg, method, srate):\n",
    "    if method == 'bandpass':\n",
    "        import scipy.signal\n",
    "        sos = scipy.signal.butter(3, [1,47], 'bandpass', output='sos', fs=srate)\n",
    "        return scipy.signal.sosfilt(sos, seg)\n",
    "    # lowess랑 수학적으로 동일한데 더 빠름 - 대신 계수 체크 필요\n",
    "    elif method == 'savgol':\n",
    "        import scipy.signal\n",
    "        return seg - scipy.signal.savgol_filter(seg, 1151, 3)\n",
    "    \n",
    "    elif method == 'lowess':\n",
    "        import statsmodels.api as sm\n",
    "        x = np.arange(0, len(seg))\n",
    "        return seg - sm.nonparametric.lowess(seg, x, frac=0.2, it=0)[:, 1].T\n",
    "\n",
    "    else:\n",
    "        print('not a valid filter')\n",
    "        return seg"
   ]
  },
  {
   "cell_type": "code",
   "execution_count": 2,
   "id": "0b3cab5d-a010-4125-b611-28e8afdfef64",
   "metadata": {},
   "outputs": [],
   "source": [
    "SRATE = 500\n",
    "QRS_TIME_WINDOW = [-0.25, 0.15]\n",
    "DURATION = 10\n",
    "\n",
    "def hr_cal(ecg_clean, srate=SRATE, timespan=QRS_TIME_WINDOW):\n",
    "    ecg_pantompkins = nk.ecg_clean(ecg_clean, srate=srate, method='pantompkins', powerline=60)\n",
    "    r_peaks = nk.ecg_findpeaks(ecg_pantompkins, srate=srate, method='pantompkins')\n",
    "    r_peaks = r_peaks['ECG_R_Peaks']\n",
    "    \n",
    "    sample_span = np.array([int(val * srate) for val in timespan])\n",
    "    r_peaks_LMS = []\n",
    "\n",
    "    for r_peak in r_peaks:\n",
    "        local = r_peak + sample_span\n",
    "        if local[0] < 0 or local[1] > srate * DURATION: continue\n",
    "\n",
    "        ecg_local = ecg_clean[local[0]:local[1]]\n",
    "        r_peaks_LMS.append(local[0] + np.argmax(ecg_local))\n",
    "        \n",
    "    if len(r_peaks_LMS) <= 3:\n",
    "        return -1\n",
    "    interval = (r_peaks_LMS[-2] - r_peaks_LMS[1]) / (len(r_peaks_LMS)-3)\n",
    "\n",
    "    return 60 / interval * SRATE"
   ]
  },
  {
   "cell_type": "markdown",
   "id": "62e9ded8-cc33-4885-943c-a55ec8068c0c",
   "metadata": {},
   "source": [
    "## Codes"
   ]
  },
  {
   "cell_type": "markdown",
   "id": "db3bfbd9-ae92-4355-8634-5280bf9b5c45",
   "metadata": {},
   "source": [
    "### train"
   ]
  },
  {
   "cell_type": "code",
   "execution_count": null,
   "id": "02c35777-8b60-4d4b-96f1-b29e17d265a9",
   "metadata": {},
   "outputs": [
    {
     "name": "stderr",
     "output_type": "stream",
     "text": [
      " 20%|██        | 1776/8781 [00:32<02:07, 55.04it/s]"
     ]
    }
   ],
   "source": [
    "TRAIN = 'train'\n",
    "ADULT = 'child'\n",
    "NORM = 'z-norm'\n",
    "LEADS = np.arange(12)\n",
    "\n",
    "file_path = f'dataset/ECG_{ADULT}_numpy_{TRAIN}'\n",
    "ECG_FILT = 'bandpass'\n",
    "\n",
    "# path for cache\n",
    "if not os.path.exists('cache'):\n",
    "    os.mkdir('cache')     \n",
    "if not os.path.exists('cache/preprocess'):\n",
    "    os.mkdir('cache/preprocess')\n",
    "\n",
    "hyper_path = f'SRATE{SRATE}_ECG-{ECG_FILT}_{NORM}_{ADULT}_{TRAIN}/'\n",
    "input_path = f\"dataset/{hyper_path}/\"\n",
    "if not os.path.exists(input_path[:-1]):\n",
    "    os.mkdir(input_path[:-1])  \n",
    "\n",
    "\n",
    "# dataframe to save preprocessing info\n",
    "column_list = ['caseid', 'gender', 'age', 'hr'] + [f'{i+1}' for i in LEADS]\n",
    "df_preprocess = pd.DataFrame(columns = column_list)\n",
    "\n",
    "# df_preprocess에 demographs(age, gender) 추가\n",
    "df_demo = pd.read_csv(f'ECG_{ADULT}_age_{TRAIN}.csv')\n",
    "caseids = df_demo['FILENAME'].values\n",
    "\n",
    "\n",
    "# set variables\n",
    "caseids = os.listdir(file_path)\n",
    "#initial, interval = f_num, len(caseids)\n",
    "\n",
    "# variables\n",
    "x, y, c, g = [], [] ,[], [] # x(ECG), y(age), c(caseid), g(gender)\n",
    "\n",
    "#pbar = tqdm(caseids[initial:initial+interval])\n",
    "for idx, row in tqdm(df_demo[0:].iterrows(), total=df_demo.shape[0]):\n",
    "    caseid = row['FILENAME']\n",
    "\n",
    "    ecg = np.load(f'{file_path}/{caseid}.npy')\n",
    "\n",
    "    #dataframe에 새로운 행 만들기\n",
    "    df_preprocess.loc[idx,'caseid'] = caseid\n",
    "    df_preprocess.loc[idx, 'age'] = row['AGE']\n",
    "    df_preprocess.loc[idx, 'gender'] = row['GENDER']\n",
    "\n",
    "    x_ind = []\n",
    "    cnt = 0\n",
    "    \n",
    "    # lead II로 hr 계산 -> 이상한 데이터 제거\n",
    "    seg_ecg = ecg[5000*1:5000*2]\n",
    "    seg_ecg = ECG_filter(pd.DataFrame(seg_ecg).fillna(method='ffill', axis=0).fillna(method='bfill', axis=0).values.flatten(), method=ECG_FILT, srate=SRATE)\n",
    "    \n",
    "    hr = hr_cal(seg_ecg)\n",
    "    df_preprocess.loc[idx,'hr'] = hr\n",
    "\n",
    "    if (hr < 30) or (hr > 200):\n",
    "        df_preprocess.loc[idx,f'{lead+1}'] = (False, nan_info, -3)\n",
    "        continue\n",
    "        \n",
    "    # 각 lead마다 input 뽑기\n",
    "    for lead in range(12):\n",
    "        seg_ecg = ecg[5000*lead:5000*(lead+1)]\n",
    "\n",
    "        # signal outliers\n",
    "        #seg_ecg = [np.nan if ele <=-5 else ele for ele in ecg]\n",
    "\n",
    "     \n",
    "        if len(np.unique(seg_ecg)) == 1:\n",
    "            df_preprocess.loc[idx,f'{lead+1}'] = (False, nan_info, -1)\n",
    "            continue\n",
    "\n",
    "        \n",
    "        ## 1. 결측치 제거 ##\n",
    "        nan_info = np.mean(np.isnan(seg_ecg))\n",
    "\n",
    "        # 결측치가 많은 경우, noise 확인할 것도 없이 False -  이 경우의 noise_info는 -1로 처리\n",
    "        if nan_info > 0.05:\n",
    "            #print(' too much missing data', end='...')\n",
    "            df_preprocess.loc[idx,f'{lead+1}'] = (False, nan_info, -1)\n",
    "            continue\n",
    "\n",
    "            \n",
    "        ## 2. Denosing ##\n",
    "        # ECG : 1-40Hz bandpass filter / PPG : loess filter\n",
    "        seg_ecg = ECG_filter(pd.DataFrame(seg_ecg).fillna(method='ffill', axis=0).fillna(method='bfill', axis=0).values.flatten(), method=ECG_FILT, srate=SRATE)\n",
    "\n",
    "\n",
    "        # 이 segment의 정보를 dataframe에 저장 - (전처리 성공여부, 전처리 nan 비율, 전처리 noise 비율, 통증 점수)\n",
    "        df_preprocess.loc[idx,f'{lead+1}'] = (True, nan_info, 1)\n",
    "        cnt += 1\n",
    "        #print(f'preprocessing done...{bool_pass[0]}', end='')\n",
    "\n",
    "\n",
    "        # normalize the signal into the range of -1 to 1\n",
    "        #ecg_input = 2 * (seg_ecg - np.min(seg_ecg)) / (np.max(seg_ecg) - np.min(seg_ecg)) - 1\n",
    "        ecg_input = stats.zscore(seg_ecg)\n",
    "\n",
    "        x_ind.append(ecg_input)\n",
    "\n",
    "    # merging total leads data\n",
    "    if cnt == 12:\n",
    "        y.append((row['AGE']))\n",
    "        if row['GENDER']=='FEMALE':\n",
    "            g.append(0)\n",
    "        else:\n",
    "            g.append(1)\n",
    "        x.append(x_ind)\n",
    "        c.append(caseid)\n",
    "\n",
    "\n",
    "            \n",
    "print(f'\\ndumping cache of df_preprocess {idx}/{len(caseids)}', end='...')\n",
    "df_preprocess.reset_index(drop=True, inplace=True)    \n",
    "pickle.dump(df_preprocess, open(f'cache/preprocess/df_preprocess_{hyper_path[:-1]}', 'wb'))\n",
    "print('dumping success')\n",
    "\n",
    "# dataset\n",
    "x = np.array(x, np.float32)\n",
    "x = x.transpose((0,2,1))\n",
    "y = np.array(y, np.float32)\n",
    "c = np.array(c)\n",
    "g = np.array(g, int)\n",
    "\n",
    "\n",
    "print('after concatenate + transpose')\n",
    "print('x shape:', x.shape)\n",
    "print('y shape:', y.shape)\n",
    "print('caseid num: ', len(c))\n",
    "print(f'input path: {input_path}\\n')"
   ]
  },
  {
   "cell_type": "code",
   "execution_count": null,
   "id": "23b6b2bf-e2f5-4e1f-9ec0-b153032850ba",
   "metadata": {},
   "outputs": [],
   "source": [
    "caseid_train = pickle.load(open(f'dataset/caseid_{ADULT}_train', 'rb'))\n",
    "caseid_test = pickle.load(open(f'dataset/caseid_{ADULT}_test', 'rb'))\n",
    "\n",
    "train_mask = np.isin(c, caseid_train)\n",
    "test_mask = np.isin(c, caseid_test)\n",
    "\n",
    "x_train = x[train_mask]\n",
    "x_test = x[test_mask]\n",
    "y_train = y[train_mask]\n",
    "y_test = y[test_mask]\n",
    "g_train = g[train_mask]\n",
    "g_test = g[test_mask]\n",
    "c_train = c[train_mask]\n",
    "c_test = c[test_mask]\n",
    "\n",
    "\n",
    "\n",
    "print(f'x train shape: {x_train.shape}')\n",
    "print(f'x test shape: {x_test.shape}')\n",
    "\n",
    "\n",
    "# 저장하기\n",
    "input_path = f'dataset/{hyper_path}'\n",
    "print('saving...', end='', flush=True)\n",
    "np.savez_compressed(input_path+'/x.npz', x_train=x_train, x_test=x_test)\n",
    "np.savez_compressed(input_path+'/y.npz', y_train=y_train, y_test=y_test)\n",
    "np.savez_compressed(input_path+'/c.npz', c_train=c_train, c_test=c_test)\n",
    "np.savez_compressed(input_path+'/g.npz', g_train=g_train, g_test=g_test)\n",
    "print('completed')"
   ]
  },
  {
   "cell_type": "markdown",
   "id": "1078db19-1ce8-4bcc-ad77-229192130b0b",
   "metadata": {
    "jp-MarkdownHeadingCollapsed": true,
    "tags": []
   },
   "source": [
    "### previous"
   ]
  },
  {
   "cell_type": "code",
   "execution_count": null,
   "id": "f6943486-0c59-4fd5-ace8-8c88843c1e9a",
   "metadata": {},
   "outputs": [],
   "source": [
    "TRAIN = 'train'\n",
    "ADULT = 'child'\n",
    "NORM = 'z-norm'\n",
    "LEADS = np.arange(12)\n",
    "\n",
    "file_path = f'dataset/ECG_{ADULT}_numpy_{TRAIN}'\n",
    "ECG_FILT = 'bandpass'\n",
    "\n",
    "# path for cache\n",
    "if not os.path.exists('cache'):\n",
    "    os.mkdir('cache')     \n",
    "if not os.path.exists('cache/preprocess'):\n",
    "    os.mkdir('cache/preprocess')\n",
    "\n",
    "hyper_path = f'SRATE{SRATE}_ECG-{ECG_FILT}_{NORM}_{ADULT}_{TRAIN}/'\n",
    "input_path = f\"dataset/{hyper_path}/\"\n",
    "if not os.path.exists(input_path[:-1]):\n",
    "    os.mkdir(input_path[:-1])  \n",
    "\n",
    "\n",
    "# dataframe to save preprocessing info\n",
    "column_list = ['caseid', 'gender', 'age', 'hr'] + [f'{i+1}' for i in LEADS]\n",
    "df_preprocess = pd.DataFrame(columns = column_list)\n",
    "\n",
    "# df_preprocess에 demographs(age, gender) 추가\n",
    "df_demo = pd.read_csv(f'ECG_{ADULT}_age_{TRAIN}.csv')\n",
    "caseids = df_demo['FILENAME'].values\n",
    "\n",
    "\n",
    "# set variables\n",
    "caseids = os.listdir(file_path)\n",
    "#initial, interval = f_num, len(caseids)\n",
    "\n",
    "# variables\n",
    "x, y, c, g = [], [] ,[], [] # x(ECG), y(age), c(caseid), g(gender)\n",
    "\n",
    "#pbar = tqdm(caseids[initial:initial+interval])\n",
    "for idx, row in tqdm(df_demo[0:].iterrows(), total=df_demo.shape[0]):\n",
    "    caseid = row['FILENAME']\n",
    "\n",
    "    ecg = np.load(f'{file_path}/{caseid}.npy')\n",
    "\n",
    "    #dataframe에 새로운 행 만들기\n",
    "    df_preprocess.loc[idx,'caseid'] = caseid\n",
    "    df_preprocess.loc[idx, 'age'] = row['AGE']\n",
    "    df_preprocess.loc[idx, 'gender'] = row['GENDER']\n",
    "\n",
    "    x_ind = []\n",
    "    cnt = 0\n",
    "    \n",
    "    # lead II로 hr 계산 -> 이상한 데이터 제거\n",
    "    seg_ecg = ecg[5000*1:5000*2]\n",
    "    seg_ecg = ECG_filter(pd.DataFrame(seg_ecg).fillna(method='ffill', axis=0).fillna(method='bfill', axis=0).values.flatten(), method=ECG_FILT, srate=SRATE)\n",
    "    \n",
    "    hr = hr_cal(seg_ecg)\n",
    "    df_preprocess.loc[idx,'hr'] = hr\n",
    "\n",
    "    if (hr < 30) or (hr > 200):\n",
    "        df_preprocess.loc[idx,f'{lead+1}'] = (False, nan_info, -3)\n",
    "        continue\n",
    "        \n",
    "    # 각 lead마다 input 뽑기\n",
    "    for lead in range(12):\n",
    "        seg_ecg = ecg[5000*lead:5000*(lead+1)]\n",
    "\n",
    "        # signal outliers\n",
    "        #seg_ecg = [np.nan if ele <=-5 else ele for ele in ecg]\n",
    "\n",
    "     \n",
    "        if len(np.unique(seg_ecg)) == 1:\n",
    "            df_preprocess.loc[idx,f'{lead+1}'] = (False, nan_info, -1)\n",
    "            continue\n",
    "\n",
    "        \n",
    "        ## 1. 결측치 제거 ##\n",
    "        nan_info = np.mean(np.isnan(seg_ecg))\n",
    "\n",
    "        # 결측치가 많은 경우, noise 확인할 것도 없이 False -  이 경우의 noise_info는 -1로 처리\n",
    "        if nan_info > 0.05:\n",
    "            #print(' too much missing data', end='...')\n",
    "            df_preprocess.loc[idx,f'{lead+1}'] = (False, nan_info, -1)\n",
    "            continue\n",
    "\n",
    "            \n",
    "        ## 2. Denosing ##\n",
    "        # ECG : 1-40Hz bandpass filter / PPG : loess filter\n",
    "        seg_ecg = ECG_filter(pd.DataFrame(seg_ecg).fillna(method='ffill', axis=0).fillna(method='bfill', axis=0).values.flatten(), method=ECG_FILT, srate=SRATE)\n",
    "\n",
    "\n",
    "        # 이 segment의 정보를 dataframe에 저장 - (전처리 성공여부, 전처리 nan 비율, 전처리 noise 비율, 통증 점수)\n",
    "        df_preprocess.loc[idx,f'{lead+1}'] = (True, nan_info, 1)\n",
    "        cnt += 1\n",
    "        #print(f'preprocessing done...{bool_pass[0]}', end='')\n",
    "\n",
    "\n",
    "        # normalize the signal into the range of -1 to 1\n",
    "        #ecg_input = 2 * (seg_ecg - np.min(seg_ecg)) / (np.max(seg_ecg) - np.min(seg_ecg)) - 1\n",
    "        ecg_input = stats.zscore(seg_ecg)\n",
    "\n",
    "        x_ind.append(ecg_input)\n",
    "\n",
    "    # merging total leads data\n",
    "    if cnt == 12:\n",
    "        y.append(int(row['AGE']))\n",
    "        if row['GENDER']=='FEMALE':\n",
    "            g.append(0)\n",
    "        else:\n",
    "            g.append(1)\n",
    "        x.append(x_ind)\n",
    "        c.append(caseid)\n",
    "\n",
    "\n",
    "            \n",
    "print(f'\\ndumping cache of df_preprocess {idx}/{len(caseids)}', end='...')\n",
    "df_preprocess.reset_index(drop=True, inplace=True)    \n",
    "pickle.dump(df_preprocess, open(f'cache/preprocess/df_preprocess_{hyper_path[:-1]}', 'wb'))\n",
    "print('dumping success')\n",
    "\n",
    "# dataset\n",
    "x = np.array(x, np.float32)\n",
    "x = x.transpose((0,2,1))\n",
    "y = np.array(y, np.float32)\n",
    "c = np.array(c)\n",
    "g = np.array(g, int)\n",
    "\n",
    "\n",
    "print('after concatenate + transpose')\n",
    "print('x shape:', x.shape)\n",
    "print('y shape:', y.shape)\n",
    "print('caseid num: ', len(c))\n",
    "print(f'input path: {input_path}\\n')"
   ]
  },
  {
   "cell_type": "code",
   "execution_count": null,
   "id": "6476aa53-4558-4716-acd9-67d929a4f65a",
   "metadata": {},
   "outputs": [],
   "source": [
    "caseid_train = pickle.load(open(f'dataset/caseid_{ADULT}_train', 'rb'))\n",
    "caseid_test = pickle.load(open(f'dataset/caseid_{ADULT}_test', 'rb'))\n",
    "\n",
    "train_mask = np.isin(c, caseid_train)\n",
    "test_mask = np.isin(c, caseid_test)\n",
    "\n",
    "x_train = x[train_mask]\n",
    "x_test = x[test_mask]\n",
    "y_train = y[train_mask]\n",
    "y_test = y[test_mask]\n",
    "g_train = g[train_mask]\n",
    "g_test = g[test_mask]\n",
    "c_train = c[train_mask]\n",
    "c_test = c[test_mask]\n",
    "\n",
    "\n",
    "\n",
    "print(f'x train shape: {x_train.shape}')\n",
    "print(f'x test shape: {x_test.shape}')\n",
    "\n",
    "\n",
    "# 저장하기\n",
    "input_path = f'dataset/{hyper_path}'\n",
    "print('saving...', end='', flush=True)\n",
    "np.savez_compressed(input_path+'/x.npz', x_train=x_train, x_test=x_test)\n",
    "np.savez_compressed(input_path+'/y.npz', y_train=y_train, y_test=y_test)\n",
    "np.savez_compressed(input_path+'/c.npz', c_train=c_train, c_test=c_test)\n",
    "np.savez_compressed(input_path+'/g.npz', g_train=g_train, g_test=g_test)\n",
    "print('completed')"
   ]
  },
  {
   "cell_type": "markdown",
   "id": "02dbb36f-532e-45f5-a2b1-2c5f164c12d6",
   "metadata": {
    "jp-MarkdownHeadingCollapsed": true,
    "tags": []
   },
   "source": [
    "### validation"
   ]
  },
  {
   "cell_type": "code",
   "execution_count": 60,
   "id": "33a9d062-9531-4694-9691-c52fd8321a23",
   "metadata": {},
   "outputs": [
    {
     "data": {
      "text/html": [
       "<div>\n",
       "<style scoped>\n",
       "    .dataframe tbody tr th:only-of-type {\n",
       "        vertical-align: middle;\n",
       "    }\n",
       "\n",
       "    .dataframe tbody tr th {\n",
       "        vertical-align: top;\n",
       "    }\n",
       "\n",
       "    .dataframe thead th {\n",
       "        text-align: right;\n",
       "    }\n",
       "</style>\n",
       "<table border=\"1\" class=\"dataframe\">\n",
       "  <thead>\n",
       "    <tr style=\"text-align: right;\">\n",
       "      <th></th>\n",
       "      <th>caseid</th>\n",
       "      <th>gender</th>\n",
       "      <th>age</th>\n",
       "      <th>hr</th>\n",
       "      <th>1</th>\n",
       "      <th>2</th>\n",
       "      <th>3</th>\n",
       "      <th>4</th>\n",
       "      <th>5</th>\n",
       "      <th>6</th>\n",
       "      <th>7</th>\n",
       "      <th>8</th>\n",
       "      <th>9</th>\n",
       "      <th>10</th>\n",
       "      <th>11</th>\n",
       "      <th>12</th>\n",
       "    </tr>\n",
       "  </thead>\n",
       "  <tbody>\n",
       "    <tr>\n",
       "      <th>0</th>\n",
       "      <td>ecg_adult_0</td>\n",
       "      <td>MALE</td>\n",
       "      <td>53</td>\n",
       "      <td>55.473373</td>\n",
       "      <td>(True, 0.0, 1)</td>\n",
       "      <td>(True, 0.0, 1)</td>\n",
       "      <td>(True, 0.0, 1)</td>\n",
       "      <td>(True, 0.0, 1)</td>\n",
       "      <td>(True, 0.0, 1)</td>\n",
       "      <td>(True, 0.0, 1)</td>\n",
       "      <td>(True, 0.0, 1)</td>\n",
       "      <td>(True, 0.0, 1)</td>\n",
       "      <td>(True, 0.0, 1)</td>\n",
       "      <td>(True, 0.0, 1)</td>\n",
       "      <td>(True, 0.0, 1)</td>\n",
       "      <td>(True, 0.0, 1)</td>\n",
       "    </tr>\n",
       "    <tr>\n",
       "      <th>1</th>\n",
       "      <td>ecg_adult_1</td>\n",
       "      <td>MALE</td>\n",
       "      <td>68</td>\n",
       "      <td>71.535022</td>\n",
       "      <td>(True, 0.0, 1)</td>\n",
       "      <td>(True, 0.0, 1)</td>\n",
       "      <td>(True, 0.0, 1)</td>\n",
       "      <td>(True, 0.0, 1)</td>\n",
       "      <td>(True, 0.0, 1)</td>\n",
       "      <td>(True, 0.0, 1)</td>\n",
       "      <td>(True, 0.0, 1)</td>\n",
       "      <td>(True, 0.0, 1)</td>\n",
       "      <td>(True, 0.0, 1)</td>\n",
       "      <td>(True, 0.0, 1)</td>\n",
       "      <td>(True, 0.0, 1)</td>\n",
       "      <td>(True, 0.0, 1)</td>\n",
       "    </tr>\n",
       "    <tr>\n",
       "      <th>2</th>\n",
       "      <td>ecg_adult_2</td>\n",
       "      <td>MALE</td>\n",
       "      <td>68</td>\n",
       "      <td>66.518847</td>\n",
       "      <td>(True, 0.0, 1)</td>\n",
       "      <td>(True, 0.0, 1)</td>\n",
       "      <td>(True, 0.0, 1)</td>\n",
       "      <td>(True, 0.0, 1)</td>\n",
       "      <td>(True, 0.0, 1)</td>\n",
       "      <td>(True, 0.0, 1)</td>\n",
       "      <td>(True, 0.0, 1)</td>\n",
       "      <td>(True, 0.0, 1)</td>\n",
       "      <td>(True, 0.0, 1)</td>\n",
       "      <td>(True, 0.0, 1)</td>\n",
       "      <td>(True, 0.0, 1)</td>\n",
       "      <td>(True, 0.0, 1)</td>\n",
       "    </tr>\n",
       "    <tr>\n",
       "      <th>3</th>\n",
       "      <td>ecg_adult_3</td>\n",
       "      <td>MALE</td>\n",
       "      <td>89</td>\n",
       "      <td>72.926162</td>\n",
       "      <td>(True, 0.0, 1)</td>\n",
       "      <td>(True, 0.0, 1)</td>\n",
       "      <td>(True, 0.0, 1)</td>\n",
       "      <td>(True, 0.0, 1)</td>\n",
       "      <td>(True, 0.0, 1)</td>\n",
       "      <td>(True, 0.0, 1)</td>\n",
       "      <td>(True, 0.0, 1)</td>\n",
       "      <td>(True, 0.0, 1)</td>\n",
       "      <td>(True, 0.0, 1)</td>\n",
       "      <td>(True, 0.0, 1)</td>\n",
       "      <td>(True, 0.0, 1)</td>\n",
       "      <td>(True, 0.0, 1)</td>\n",
       "    </tr>\n",
       "    <tr>\n",
       "      <th>4</th>\n",
       "      <td>ecg_adult_4</td>\n",
       "      <td>MALE</td>\n",
       "      <td>79</td>\n",
       "      <td>73.230269</td>\n",
       "      <td>(True, 0.0, 1)</td>\n",
       "      <td>(True, 0.0, 1)</td>\n",
       "      <td>(True, 0.0, 1)</td>\n",
       "      <td>(True, 0.0, 1)</td>\n",
       "      <td>(True, 0.0, 1)</td>\n",
       "      <td>(True, 0.0, 1)</td>\n",
       "      <td>(True, 0.0, 1)</td>\n",
       "      <td>(True, 0.0, 1)</td>\n",
       "      <td>(True, 0.0, 1)</td>\n",
       "      <td>(True, 0.0, 1)</td>\n",
       "      <td>(True, 0.0, 1)</td>\n",
       "      <td>(True, 0.0, 1)</td>\n",
       "    </tr>\n",
       "    <tr>\n",
       "      <th>...</th>\n",
       "      <td>...</td>\n",
       "      <td>...</td>\n",
       "      <td>...</td>\n",
       "      <td>...</td>\n",
       "      <td>...</td>\n",
       "      <td>...</td>\n",
       "      <td>...</td>\n",
       "      <td>...</td>\n",
       "      <td>...</td>\n",
       "      <td>...</td>\n",
       "      <td>...</td>\n",
       "      <td>...</td>\n",
       "      <td>...</td>\n",
       "      <td>...</td>\n",
       "      <td>...</td>\n",
       "      <td>...</td>\n",
       "    </tr>\n",
       "    <tr>\n",
       "      <th>34902</th>\n",
       "      <td>ecg_adult_35136</td>\n",
       "      <td>MALE</td>\n",
       "      <td>19</td>\n",
       "      <td>61.099796</td>\n",
       "      <td>(True, 0.0, 1)</td>\n",
       "      <td>(True, 0.0, 1)</td>\n",
       "      <td>(True, 0.0, 1)</td>\n",
       "      <td>(True, 0.0, 1)</td>\n",
       "      <td>(True, 0.0, 1)</td>\n",
       "      <td>(True, 0.0, 1)</td>\n",
       "      <td>(True, 0.0, 1)</td>\n",
       "      <td>(True, 0.0, 1)</td>\n",
       "      <td>(True, 0.0, 1)</td>\n",
       "      <td>(True, 0.0, 1)</td>\n",
       "      <td>(True, 0.0, 1)</td>\n",
       "      <td>(True, 0.0, 1)</td>\n",
       "    </tr>\n",
       "    <tr>\n",
       "      <th>34903</th>\n",
       "      <td>ecg_adult_35137</td>\n",
       "      <td>FEMALE</td>\n",
       "      <td>63</td>\n",
       "      <td>75.69386</td>\n",
       "      <td>(True, 0.0, 1)</td>\n",
       "      <td>(True, 0.0, 1)</td>\n",
       "      <td>(True, 0.0, 1)</td>\n",
       "      <td>(True, 0.0, 1)</td>\n",
       "      <td>(True, 0.0, 1)</td>\n",
       "      <td>(True, 0.0, 1)</td>\n",
       "      <td>(True, 0.0, 1)</td>\n",
       "      <td>(True, 0.0, 1)</td>\n",
       "      <td>(True, 0.0, 1)</td>\n",
       "      <td>(True, 0.0, 1)</td>\n",
       "      <td>(True, 0.0, 1)</td>\n",
       "      <td>(True, 0.0, 1)</td>\n",
       "    </tr>\n",
       "    <tr>\n",
       "      <th>34904</th>\n",
       "      <td>ecg_adult_35138</td>\n",
       "      <td>MALE</td>\n",
       "      <td>60</td>\n",
       "      <td>77.922078</td>\n",
       "      <td>(True, 0.0, 1)</td>\n",
       "      <td>(True, 0.0, 1)</td>\n",
       "      <td>(True, 0.0, 1)</td>\n",
       "      <td>(True, 0.0, 1)</td>\n",
       "      <td>(True, 0.0, 1)</td>\n",
       "      <td>(True, 0.0, 1)</td>\n",
       "      <td>(True, 0.0, 1)</td>\n",
       "      <td>(True, 0.0, 1)</td>\n",
       "      <td>(True, 0.0, 1)</td>\n",
       "      <td>(True, 0.0, 1)</td>\n",
       "      <td>(True, 0.0, 1)</td>\n",
       "      <td>(True, 0.0, 1)</td>\n",
       "    </tr>\n",
       "    <tr>\n",
       "      <th>34905</th>\n",
       "      <td>ecg_adult_35139</td>\n",
       "      <td>FEMALE</td>\n",
       "      <td>60</td>\n",
       "      <td>73.891626</td>\n",
       "      <td>(True, 0.0, 1)</td>\n",
       "      <td>(True, 0.0, 1)</td>\n",
       "      <td>(True, 0.0, 1)</td>\n",
       "      <td>(True, 0.0, 1)</td>\n",
       "      <td>(True, 0.0, 1)</td>\n",
       "      <td>(True, 0.0, 1)</td>\n",
       "      <td>(True, 0.0, 1)</td>\n",
       "      <td>(True, 0.0, 1)</td>\n",
       "      <td>(True, 0.0, 1)</td>\n",
       "      <td>(True, 0.0, 1)</td>\n",
       "      <td>(True, 0.0, 1)</td>\n",
       "      <td>(True, 0.0, 1)</td>\n",
       "    </tr>\n",
       "    <tr>\n",
       "      <th>34906</th>\n",
       "      <td>ecg_adult_35140</td>\n",
       "      <td>MALE</td>\n",
       "      <td>53</td>\n",
       "      <td>87.744955</td>\n",
       "      <td>(True, 0.0, 1)</td>\n",
       "      <td>(True, 0.0, 1)</td>\n",
       "      <td>(True, 0.0, 1)</td>\n",
       "      <td>(True, 0.0, 1)</td>\n",
       "      <td>(True, 0.0, 1)</td>\n",
       "      <td>(True, 0.0, 1)</td>\n",
       "      <td>(True, 0.0, 1)</td>\n",
       "      <td>(True, 0.0, 1)</td>\n",
       "      <td>(True, 0.0, 1)</td>\n",
       "      <td>(True, 0.0, 1)</td>\n",
       "      <td>(True, 0.0, 1)</td>\n",
       "      <td>(True, 0.0, 1)</td>\n",
       "    </tr>\n",
       "  </tbody>\n",
       "</table>\n",
       "<p>34907 rows × 16 columns</p>\n",
       "</div>"
      ],
      "text/plain": [
       "                caseid  gender age         hr               1               2  \\\n",
       "0          ecg_adult_0    MALE  53  55.473373  (True, 0.0, 1)  (True, 0.0, 1)   \n",
       "1          ecg_adult_1    MALE  68  71.535022  (True, 0.0, 1)  (True, 0.0, 1)   \n",
       "2          ecg_adult_2    MALE  68  66.518847  (True, 0.0, 1)  (True, 0.0, 1)   \n",
       "3          ecg_adult_3    MALE  89  72.926162  (True, 0.0, 1)  (True, 0.0, 1)   \n",
       "4          ecg_adult_4    MALE  79  73.230269  (True, 0.0, 1)  (True, 0.0, 1)   \n",
       "...                ...     ...  ..        ...             ...             ...   \n",
       "34902  ecg_adult_35136    MALE  19  61.099796  (True, 0.0, 1)  (True, 0.0, 1)   \n",
       "34903  ecg_adult_35137  FEMALE  63   75.69386  (True, 0.0, 1)  (True, 0.0, 1)   \n",
       "34904  ecg_adult_35138    MALE  60  77.922078  (True, 0.0, 1)  (True, 0.0, 1)   \n",
       "34905  ecg_adult_35139  FEMALE  60  73.891626  (True, 0.0, 1)  (True, 0.0, 1)   \n",
       "34906  ecg_adult_35140    MALE  53  87.744955  (True, 0.0, 1)  (True, 0.0, 1)   \n",
       "\n",
       "                    3               4               5               6  \\\n",
       "0      (True, 0.0, 1)  (True, 0.0, 1)  (True, 0.0, 1)  (True, 0.0, 1)   \n",
       "1      (True, 0.0, 1)  (True, 0.0, 1)  (True, 0.0, 1)  (True, 0.0, 1)   \n",
       "2      (True, 0.0, 1)  (True, 0.0, 1)  (True, 0.0, 1)  (True, 0.0, 1)   \n",
       "3      (True, 0.0, 1)  (True, 0.0, 1)  (True, 0.0, 1)  (True, 0.0, 1)   \n",
       "4      (True, 0.0, 1)  (True, 0.0, 1)  (True, 0.0, 1)  (True, 0.0, 1)   \n",
       "...               ...             ...             ...             ...   \n",
       "34902  (True, 0.0, 1)  (True, 0.0, 1)  (True, 0.0, 1)  (True, 0.0, 1)   \n",
       "34903  (True, 0.0, 1)  (True, 0.0, 1)  (True, 0.0, 1)  (True, 0.0, 1)   \n",
       "34904  (True, 0.0, 1)  (True, 0.0, 1)  (True, 0.0, 1)  (True, 0.0, 1)   \n",
       "34905  (True, 0.0, 1)  (True, 0.0, 1)  (True, 0.0, 1)  (True, 0.0, 1)   \n",
       "34906  (True, 0.0, 1)  (True, 0.0, 1)  (True, 0.0, 1)  (True, 0.0, 1)   \n",
       "\n",
       "                    7               8               9              10  \\\n",
       "0      (True, 0.0, 1)  (True, 0.0, 1)  (True, 0.0, 1)  (True, 0.0, 1)   \n",
       "1      (True, 0.0, 1)  (True, 0.0, 1)  (True, 0.0, 1)  (True, 0.0, 1)   \n",
       "2      (True, 0.0, 1)  (True, 0.0, 1)  (True, 0.0, 1)  (True, 0.0, 1)   \n",
       "3      (True, 0.0, 1)  (True, 0.0, 1)  (True, 0.0, 1)  (True, 0.0, 1)   \n",
       "4      (True, 0.0, 1)  (True, 0.0, 1)  (True, 0.0, 1)  (True, 0.0, 1)   \n",
       "...               ...             ...             ...             ...   \n",
       "34902  (True, 0.0, 1)  (True, 0.0, 1)  (True, 0.0, 1)  (True, 0.0, 1)   \n",
       "34903  (True, 0.0, 1)  (True, 0.0, 1)  (True, 0.0, 1)  (True, 0.0, 1)   \n",
       "34904  (True, 0.0, 1)  (True, 0.0, 1)  (True, 0.0, 1)  (True, 0.0, 1)   \n",
       "34905  (True, 0.0, 1)  (True, 0.0, 1)  (True, 0.0, 1)  (True, 0.0, 1)   \n",
       "34906  (True, 0.0, 1)  (True, 0.0, 1)  (True, 0.0, 1)  (True, 0.0, 1)   \n",
       "\n",
       "                   11              12  \n",
       "0      (True, 0.0, 1)  (True, 0.0, 1)  \n",
       "1      (True, 0.0, 1)  (True, 0.0, 1)  \n",
       "2      (True, 0.0, 1)  (True, 0.0, 1)  \n",
       "3      (True, 0.0, 1)  (True, 0.0, 1)  \n",
       "4      (True, 0.0, 1)  (True, 0.0, 1)  \n",
       "...               ...             ...  \n",
       "34902  (True, 0.0, 1)  (True, 0.0, 1)  \n",
       "34903  (True, 0.0, 1)  (True, 0.0, 1)  \n",
       "34904  (True, 0.0, 1)  (True, 0.0, 1)  \n",
       "34905  (True, 0.0, 1)  (True, 0.0, 1)  \n",
       "34906  (True, 0.0, 1)  (True, 0.0, 1)  \n",
       "\n",
       "[34907 rows x 16 columns]"
      ]
     },
     "execution_count": 60,
     "metadata": {},
     "output_type": "execute_result"
    }
   ],
   "source": [
    "TRAIN = 'train'\n",
    "ADULT = 'adult'\n",
    "LEADS = np.arange(12)\n",
    "\n",
    "file_path = f'dataset/ECG_{ADULT}_numpy_{TRAIN}'\n",
    "ECG_FILT = 'bandpass'\n",
    "\n",
    "df_prep = pickle.load(open(f'cache/preprocess/df_preprocess_SRATE{SRATE}_ECG-{ECG_FILT}_{TRAIN}_{NORM}_{ADULT}', 'rb'))\n",
    "df_prep"
   ]
  },
  {
   "cell_type": "code",
   "execution_count": 68,
   "id": "d30ef0e8-51c8-4543-81d9-d8f8ca53370e",
   "metadata": {
    "collapsed": true,
    "jupyter": {
     "outputs_hidden": true
    },
    "tags": []
   },
   "outputs": [
    {
     "name": "stdout",
     "output_type": "stream",
     "text": [
      "ecg_adult_298- 11LEAD-3\n",
      "ecg_adult_717- 2LEAD-3\n",
      "ecg_adult_717- 12LEAD-3\n",
      "ecg_adult_1490- 12LEAD-3\n",
      "ecg_adult_2526- 3LEAD-3\n",
      "ecg_adult_2811- 9LEAD-3\n",
      "ecg_adult_3690- 2LEAD-3\n",
      "ecg_adult_3690- 12LEAD-3\n",
      "ecg_adult_3949- 2LEAD-3\n",
      "ecg_adult_3949- 12LEAD-3\n",
      "ecg_adult_4315- 12LEAD-3\n",
      "ecg_adult_5252- 11LEAD-3\n",
      "ecg_adult_5525- 1LEAD-1\n",
      "ecg_adult_5525- 2LEAD-1\n",
      "ecg_adult_5525- 3LEAD-1\n",
      "ecg_adult_5525- 4LEAD-1\n",
      "ecg_adult_5525- 5LEAD-1\n",
      "ecg_adult_5525- 6LEAD-1\n",
      "ecg_adult_5525- 7LEAD-1\n",
      "ecg_adult_5525- 8LEAD-1\n",
      "ecg_adult_5525- 9LEAD-1\n",
      "ecg_adult_5525- 10LEAD-1\n",
      "ecg_adult_5525- 11LEAD-1\n",
      "ecg_adult_5525- 12LEAD-1\n",
      "ecg_adult_5544- 11LEAD-3\n",
      "ecg_adult_5816- 12LEAD-3\n",
      "ecg_adult_6846- 7LEAD-1\n",
      "ecg_adult_8260- 12LEAD-3\n",
      "ecg_adult_8266- 3LEAD-3\n",
      "ecg_adult_8266- 11LEAD-3\n",
      "ecg_adult_8311- 12LEAD-3\n",
      "ecg_adult_8533- 2LEAD-3\n",
      "ecg_adult_9148- 11LEAD-3\n",
      "ecg_adult_9233- 3LEAD-3\n",
      "ecg_adult_9518- 3LEAD-3\n",
      "ecg_adult_9518- 12LEAD-3\n",
      "ecg_adult_9841- 2LEAD-3\n",
      "ecg_adult_9841- 12LEAD-3\n",
      "ecg_adult_10356- 12LEAD-3\n",
      "ecg_adult_10384- 3LEAD-3\n",
      "ecg_adult_10384- 12LEAD-3\n",
      "ecg_adult_10914- 7LEAD-1\n",
      "ecg_adult_11346- 2LEAD-3\n",
      "ecg_adult_11346- 4LEAD-3\n",
      "ecg_adult_11346- 12LEAD-3\n",
      "ecg_adult_11493- 3LEAD-3\n",
      "ecg_adult_11583- 11LEAD-3\n",
      "ecg_adult_11591- 3LEAD-3\n",
      "ecg_adult_14502- 12LEAD-3\n",
      "ecg_adult_14578- 11LEAD-3\n",
      "ecg_adult_14877- 1LEAD-1\n",
      "ecg_adult_14877- 2LEAD-1\n",
      "ecg_adult_14877- 3LEAD-1\n",
      "ecg_adult_14877- 4LEAD-1\n",
      "ecg_adult_14877- 5LEAD-1\n",
      "ecg_adult_14877- 6LEAD-1\n",
      "ecg_adult_14877- 7LEAD-1\n",
      "ecg_adult_14877- 8LEAD-1\n",
      "ecg_adult_14877- 9LEAD-1\n",
      "ecg_adult_14877- 10LEAD-1\n",
      "ecg_adult_14877- 11LEAD-1\n",
      "ecg_adult_14877- 12LEAD-1\n",
      "ecg_adult_15393- 3LEAD-3\n",
      "ecg_adult_15512- 3LEAD-3\n",
      "ecg_adult_15512- 12LEAD-3\n",
      "ecg_adult_15626- 3LEAD-3\n",
      "ecg_adult_16360- 8LEAD-1\n",
      "ecg_adult_17230- 3LEAD-3\n",
      "ecg_adult_17418- 4LEAD-3\n",
      "ecg_adult_17426- 3LEAD-3\n",
      "ecg_adult_17615- 3LEAD-3\n",
      "ecg_adult_17615- 12LEAD-3\n",
      "ecg_adult_17714- 11LEAD-3\n",
      "ecg_adult_17906- 11LEAD-3\n",
      "ecg_adult_19108- 2LEAD-3\n",
      "ecg_adult_19108- 12LEAD-3\n",
      "ecg_adult_19181- 12LEAD-3\n",
      "ecg_adult_19352- 11LEAD-3\n",
      "ecg_adult_19509- 11LEAD-3\n",
      "ecg_adult_20363- 3LEAD-3\n",
      "ecg_adult_20363- 12LEAD-3\n",
      "ecg_adult_20936- 12LEAD-3\n",
      "ecg_adult_21272- 11LEAD-3\n",
      "ecg_adult_21357- 9LEAD-3\n",
      "ecg_adult_21450- 3LEAD-3\n",
      "ecg_adult_21450- 11LEAD-3\n",
      "ecg_adult_21450- 12LEAD-3\n",
      "ecg_adult_21479- 3LEAD-3\n",
      "ecg_adult_21692- 9LEAD-3\n",
      "ecg_adult_22268- 3LEAD-3\n",
      "ecg_adult_22406- 11LEAD-3\n",
      "ecg_adult_23631- 1LEAD-1\n",
      "ecg_adult_23631- 2LEAD-1\n",
      "ecg_adult_23631- 3LEAD-1\n",
      "ecg_adult_23631- 4LEAD-1\n",
      "ecg_adult_23631- 5LEAD-1\n",
      "ecg_adult_23631- 6LEAD-1\n",
      "ecg_adult_23631- 7LEAD-1\n",
      "ecg_adult_23631- 8LEAD-1\n",
      "ecg_adult_23631- 9LEAD-1\n",
      "ecg_adult_23631- 10LEAD-1\n",
      "ecg_adult_23631- 11LEAD-1\n",
      "ecg_adult_23631- 12LEAD-1\n",
      "ecg_adult_23747- 11LEAD-3\n",
      "ecg_adult_23913- 11LEAD-3\n",
      "ecg_adult_24144- 2LEAD-3\n",
      "ecg_adult_24144- 3LEAD-3\n",
      "ecg_adult_24144- 12LEAD-3\n",
      "ecg_adult_24621- 3LEAD-3\n",
      "ecg_adult_24653- 9LEAD-3\n",
      "ecg_adult_24653- 10LEAD-3\n",
      "ecg_adult_25051- 12LEAD-3\n",
      "ecg_adult_25098- 1LEAD-1\n",
      "ecg_adult_25098- 2LEAD-1\n",
      "ecg_adult_25098- 3LEAD-1\n",
      "ecg_adult_25098- 4LEAD-1\n",
      "ecg_adult_25098- 5LEAD-1\n",
      "ecg_adult_25098- 6LEAD-1\n",
      "ecg_adult_25098- 7LEAD-1\n",
      "ecg_adult_25098- 8LEAD-1\n",
      "ecg_adult_25098- 9LEAD-1\n",
      "ecg_adult_25098- 10LEAD-1\n",
      "ecg_adult_25098- 11LEAD-1\n",
      "ecg_adult_25098- 12LEAD-1\n",
      "ecg_adult_25315- 3LEAD-3\n",
      "ecg_adult_25381- 12LEAD-3\n",
      "ecg_adult_25551- 7LEAD-3\n",
      "ecg_adult_25590- 11LEAD-3\n",
      "ecg_adult_26194- 12LEAD-3\n",
      "ecg_adult_26306- 11LEAD-3\n",
      "ecg_adult_26326- 3LEAD-3\n",
      "ecg_adult_26456- 11LEAD-3\n",
      "ecg_adult_26538- 12LEAD-3\n",
      "ecg_adult_26567- 11LEAD-3\n",
      "ecg_adult_26655- 2LEAD-3\n",
      "ecg_adult_26655- 3LEAD-3\n",
      "ecg_adult_26655- 12LEAD-3\n",
      "ecg_adult_26836- 3LEAD-3\n",
      "ecg_adult_27220- 3LEAD-3\n",
      "ecg_adult_27220- 11LEAD-3\n",
      "ecg_adult_27518- 3LEAD-3\n",
      "ecg_adult_27518- 11LEAD-3\n",
      "ecg_adult_27558- 12LEAD-3\n",
      "ecg_adult_27689- 4LEAD-3\n",
      "ecg_adult_27881- 3LEAD-3\n",
      "ecg_adult_28264- 3LEAD-3\n",
      "ecg_adult_28560- 2LEAD-3\n",
      "ecg_adult_28939- 3LEAD-3\n",
      "ecg_adult_28939- 12LEAD-3\n",
      "ecg_adult_29325- 3LEAD-3\n",
      "ecg_adult_29700- 3LEAD-3\n",
      "ecg_adult_30079- 12LEAD-3\n",
      "ecg_adult_30158- 12LEAD-3\n",
      "ecg_adult_30687- 3LEAD-3\n",
      "ecg_adult_31333- 3LEAD-3\n",
      "ecg_adult_31333- 12LEAD-3\n",
      "ecg_adult_31769- 2LEAD-3\n",
      "ecg_adult_31999- 7LEAD-3\n",
      "ecg_adult_31999- 8LEAD-3\n",
      "ecg_adult_32006- 3LEAD-3\n",
      "ecg_adult_32006- 12LEAD-3\n",
      "ecg_adult_32337- 3LEAD-3\n",
      "ecg_adult_32676- 5LEAD-3\n",
      "ecg_adult_32900- 3LEAD-3\n",
      "ecg_adult_33003- 6LEAD-3\n",
      "ecg_adult_33257- 10LEAD-3\n",
      "ecg_adult_33870- 5LEAD-3\n",
      "ecg_adult_33870- 6LEAD-3\n",
      "ecg_adult_35008- 3LEAD-3\n",
      "ecg_adult_35008- 12LEAD-3\n"
     ]
    },
    {
     "data": {
      "text/plain": [
       "(170, 98)"
      ]
     },
     "execution_count": 68,
     "metadata": {},
     "output_type": "execute_result"
    }
   ],
   "source": [
    "cnt = 0\n",
    "r_cnt = 0\n",
    "for idx, row in df_prep.iterrows():\n",
    "    switch = False\n",
    "    for i in LEADS:\n",
    "        if not row[f'{i+1}'][0]:\n",
    "            caseid = row['caseid']\n",
    "            print(f'{caseid}- {i+1}LEAD', end='')\n",
    "            print(row[f'{i+1}'][2])\n",
    "            cnt += 1\n",
    "            switch = True\n",
    "            \n",
    "    if switch:\n",
    "        r_cnt += 1\n",
    "        \n",
    "cnt, r_cnt"
   ]
  },
  {
   "cell_type": "code",
   "execution_count": 47,
   "id": "0c584ae1-3473-43ac-a0e5-974cdd629e6e",
   "metadata": {
    "tags": []
   },
   "outputs": [],
   "source": [
    "df1 = pd.DataFrame({'FILENAME':c})\n",
    "df2 = pd.merge(df1, df_demo, how='left', on='FILENAME')\n",
    "df2['gender'] = df2['GENDER'].apply(lambda x: 1 if x == 'MALE' else 0)\n",
    "g = np.array(df2['gender'].tolist(), int)"
   ]
  },
  {
   "cell_type": "code",
   "execution_count": 44,
   "id": "c0658e27-f8a0-466a-a6ef-03473de81f62",
   "metadata": {},
   "outputs": [
    {
     "data": {
      "text/plain": [
       "0"
      ]
     },
     "execution_count": 44,
     "metadata": {},
     "output_type": "execute_result"
    }
   ],
   "source": [
    "# check how many 'UNKNOWN' data for gender\n",
    "np.sum(df_demo['GENDER'].apply(lambda x: x=='UNKNOWN'))"
   ]
  },
  {
   "cell_type": "markdown",
   "id": "651c466b-8b05-4575-a299-5b5f5b21a126",
   "metadata": {
    "jp-MarkdownHeadingCollapsed": true,
    "tags": []
   },
   "source": [
    "### valid"
   ]
  },
  {
   "cell_type": "code",
   "execution_count": 98,
   "id": "75a0c44c-5374-471a-b921-42bd95206f4c",
   "metadata": {},
   "outputs": [
    {
     "name": "stderr",
     "output_type": "stream",
     "text": [
      "100%|██████████| 4375/4375 [00:55<00:00, 78.36it/s]\n"
     ]
    },
    {
     "name": "stdout",
     "output_type": "stream",
     "text": [
      "after concatenate + transpose\n",
      "x shape: (4375, 5000, 12)\n",
      "caseid num:  4375\n",
      "input path: dataset/SRATE500_ECG-bandpass_z-norm_adult_valid//\n",
      "\n"
     ]
    }
   ],
   "source": [
    "TRAIN = 'valid'\n",
    "ADULT = 'adult'\n",
    "NORM = 'z-norm'\n",
    "LEADS = np.arange(12)\n",
    "ECG_FILT = 'bandpass'\n",
    "\n",
    "file_path = f'dataset/ECG_{ADULT}_numpy_{TRAIN}'\n",
    "\n",
    "\n",
    "# path for cache\n",
    "if not os.path.exists('cache'):\n",
    "    os.mkdir('cache')     \n",
    "if not os.path.exists('cache/preprocess'):\n",
    "    os.mkdir('cache/preprocess')\n",
    "\n",
    "hyper_path = f'SRATE{SRATE}_ECG-{ECG_FILT}_{NORM}_{ADULT}_{TRAIN}/'\n",
    "input_path = f\"dataset/{hyper_path}/\"\n",
    "if not os.path.exists(input_path[:-1]):\n",
    "    os.mkdir(input_path[:-1])  \n",
    "\n",
    "\n",
    "# dataframe to save preprocessing info\n",
    "column_list = ['caseid', 'gender', 'age', 'hr'] + [f'{i+1}' for i in LEADS]\n",
    "df_preprocess = pd.DataFrame(columns = column_list)\n",
    "\n",
    "# df_preprocess에 demographs(age, gender) 추가\n",
    "df_demo = pd.read_csv(f'submission.csv')\n",
    "caseids = df_demo['FILENAME'].values\n",
    "\n",
    "\n",
    "# set variables\n",
    "caseids = os.listdir(file_path)\n",
    "#initial, interval = f_num, len(caseids)\n",
    "\n",
    "# variables\n",
    "x, y, c, g = [], [] ,[], [] # x(ECG), y(age), c(caseid), g(gender)\n",
    "\n",
    "\n",
    "for caseid in tqdm(os.listdir(file_path)):\n",
    "    ecg = np.load(f'{file_path}/{caseid}')\n",
    "\n",
    "    x_ind = []\n",
    "    cnt = 0\n",
    "    for lead in range(12):\n",
    "        seg_ecg = ecg[5000*lead:5000*(lead+1)]\n",
    "        \n",
    "        ## 2. Denosing ##\n",
    "        # ECG : 1-40Hz bandpass filter / PPG : loess filter\n",
    "        seg_ecg = ECG_filter(pd.DataFrame(seg_ecg).fillna(method='ffill', axis=0).fillna(method='bfill', axis=0).values.flatten(), method=ECG_FILT, srate=SRATE)\n",
    "\n",
    "        # normalize the signal into the range of -1 to 1\n",
    "        #ecg_input = 2 * (seg_ecg - np.min(seg_ecg)) / (np.max(seg_ecg) - np.min(seg_ecg)) - 1\n",
    "        ecg_input = stats.zscore(seg_ecg)\n",
    "\n",
    "        x_ind.append(ecg_input)\n",
    "\n",
    "    # merging total leads data\n",
    "    if row['GENDER']=='FEMALE':\n",
    "        g.append(0)\n",
    "    else:\n",
    "        g.append(1)\n",
    "    x.append(x_ind)\n",
    "    c.append(caseid[:-4])\n",
    "\n",
    "\n",
    "# dataset\n",
    "x = np.array(x, np.float32)\n",
    "x = x.transpose((0,2,1))\n",
    "c = np.array(c)\n",
    "g = np.array(g, int)\n",
    "\n",
    "\n",
    "print('after concatenate + transpose')\n",
    "print('x shape:', x.shape)\n",
    "print('caseid num: ', len(c))\n",
    "print(f'input path: {input_path}\\n')"
   ]
  },
  {
   "cell_type": "code",
   "execution_count": 99,
   "id": "4fa8be14-6f75-480b-9a60-a22e71dad860",
   "metadata": {},
   "outputs": [
    {
     "name": "stdout",
     "output_type": "stream",
     "text": [
      "saving...completed\n"
     ]
    }
   ],
   "source": [
    "# 저장하기\n",
    "input_path = f'dataset/{hyper_path}'\n",
    "print('saving...', end='', flush=True)\n",
    "np.savez_compressed(input_path+'/x.npz', x=x)\n",
    "np.savez_compressed(input_path+'/c.npz', c=c)\n",
    "np.savez_compressed(input_path+'/g.npz', g=g)\n",
    "print('completed')"
   ]
  },
  {
   "cell_type": "markdown",
   "id": "bcd0ea14-9065-4ed4-9dbb-6477381cc952",
   "metadata": {
    "jp-MarkdownHeadingCollapsed": true,
    "tags": []
   },
   "source": [
    "# EDA (Explanatory data analysis)"
   ]
  },
  {
   "cell_type": "code",
   "execution_count": 80,
   "id": "18e8ca4b-7b32-4ec4-9721-9871b25ce07a",
   "metadata": {},
   "outputs": [],
   "source": [
    "# Plot settings\n",
    "XTICKS_DEFAULT_10SEC    = np.linspace(0, 10, 21)\n",
    "XTICKS_DEFAULT_PQRST    = np.linspace(0, 0.9, 10)\n",
    "YTICKS_DEFAULT          = np.linspace(-450, 450, 7)\n",
    "\n",
    "def plotEKG(signal,\n",
    "            srate=SRATE,\n",
    "            xlabel=None, ylabel=None, title=None,\n",
    "            xticks=XTICKS_DEFAULT_10SEC, yticks=YTICKS_DEFAULT, ax=None):\n",
    "    \n",
    "    if ax is None:\n",
    "        _, ax = plt.subplots(figsize=(20, 4))\n",
    "    \n",
    "    time_x = np.array(range(len(signal))) / srate\n",
    "    ax.plot(time_x, signal)\n",
    "\n",
    "    ax.set_title(title)\n",
    "    ax.set_xlabel(xlabel)\n",
    "    ax.set_ylabel(ylabel)\n",
    "\n",
    "    if xticks is None:\n",
    "        time_max = int(np.round(len(signal) / srate))\n",
    "        xticks = np.linspace(0, time_max, 2 * time_max + 1)\n",
    "    \n",
    "    ax.set_xticks(xticks), ax.set_xlim([xticks[0], xticks[-1]])\n",
    "    ax.set_yticks(yticks), ax.set_ylim([yticks[0], yticks[-1]])\n",
    "    ax.grid(True)\n",
    "\n",
    "    return ax\n",
    "\n",
    "def plotMultipleEKG(signals,\n",
    "                    srate=SRATE,\n",
    "                    xlabels=None, ylabels=None, titles=None, axs=None):\n",
    "\n",
    "    n_signals = len(signals)\n",
    "    \n",
    "    if xlabels is None:\n",
    "        xlabels = [None for _ in range(n_signals)]\n",
    "    if ylabels is None:\n",
    "        ylabels = [None for _ in range(n_signals)]\n",
    "    if titles is None:\n",
    "        titles = [None for _ in range(n_signals)]\n",
    "    if axs is None:\n",
    "        _, axs = plt.subplots(nrows=n_signals, ncols=1, figsize=(20, 4 * n_signals))\n",
    "\n",
    "    assert len(axs) == n_signals\n",
    "    assert len(xlabels) == n_signals\n",
    "    assert len(ylabels) == n_signals\n",
    "    assert len(titles) == n_signals\n",
    "\n",
    "    for ax, signal, xlabel, ylabel, title in zip(axs, signals, xlabels, ylabels, titles):\n",
    "        plotEKG(signal, srate=srate,\n",
    "                xlabel=xlabel, ylabel=ylabel, title=title, ax=ax)\n",
    "    \n",
    "    return axs"
   ]
  },
  {
   "cell_type": "code",
   "execution_count": null,
   "id": "9a220166-842c-484d-b27d-e0fd7f4da98e",
   "metadata": {},
   "outputs": [],
   "source": [
    "ONE, TWO, THR = 0, 1, 2\n",
    "V1, V2, V3, V4, V5, V6 = 3, 4, 5, 6, 7, 8\n",
    "AVR, AVL, AVF = 9, 10, 11\n",
    "\n",
    "LEAD_NAMES = {\n",
    "    ONE : 'I', TWO : 'II', THR : 'III',\n",
    "    AVR : 'aVR', AVL : 'aVL', AVF : 'aVF',\n",
    "    V1 : 'V1', V2 : 'V2', V3 : 'V3',\n",
    "    V4 : 'V4', V5 : 'V5', V6 : 'V6'\n",
    "}\n",
    "\n",
    "# Plot settings\n",
    "XTICKS_DEFAULT_10SEC    = np.linspace(0, 10, 21)\n",
    "XTICKS_DEFAULT_PQRST    = np.linspace(0, 0.9, 10)\n",
    "YTICKS_DEFAULT          = np.linspace(-10, 10, 5)\n",
    "\n",
    "def plotEKG(signal,\n",
    "            srate=SRATE,\n",
    "            xlabel=None, ylabel=None, title=None,\n",
    "            xticks=XTICKS_DEFAULT_10SEC, yticks=YTICKS_DEFAULT, ax=None):\n",
    "    \n",
    "    if ax is None:\n",
    "        _, ax = plt.subplots(figsize=(20, 4))\n",
    "    \n",
    "    time_x = np.array(range(len(signal))) / srate\n",
    "    ax.plot(time_x, signal)\n",
    "\n",
    "    ax.set_title(title)\n",
    "    ax.set_xlabel(xlabel)\n",
    "    ax.set_ylabel(ylabel)\n",
    "\n",
    "    if xticks is None:\n",
    "        time_max = int(np.round(len(signal) / srate))\n",
    "        xticks = np.linspace(0, time_max, 2 * time_max + 1)\n",
    "    \n",
    "    ax.set_xticks(xticks), ax.set_xlim([xticks[0], xticks[-1]])\n",
    "    ax.set_yticks(yticks), ax.set_ylim([yticks[0], yticks[-1]])\n",
    "    ax.grid(True)\n",
    "\n",
    "    return ax"
   ]
  },
  {
   "cell_type": "code",
   "execution_count": null,
   "id": "b3be1456-ae2a-4664-807a-57bd6d67145d",
   "metadata": {},
   "outputs": [],
   "source": [
    "# Unmasked mean beat\n",
    "\n",
    "for i in range(100):\n",
    "    print(f'{c_train[i]} - age {y_train[i]}, gend {g_train[i]}')\n",
    "    beat_mean = x_train[i,:,:]\n",
    "    _, axs = plt.subplots(ncols=4, nrows=3, figsize=(20, 10))\n",
    "    for i in range(4):\n",
    "        for j in range(3):\n",
    "            lead_num = 3 * i + j\n",
    "            plotEKG(beat_mean[:,lead_num], title=f'LEAD {LEAD_NAMES[lead_num]}', xticks=XTICKS_DEFAULT_10SEC, ax=axs[j][i])\n",
    "\n",
    "    plt.show()"
   ]
  },
  {
   "cell_type": "markdown",
   "id": "c12afbf9-c49e-40a6-a015-a6cff94577ae",
   "metadata": {},
   "source": [
    "# Input concatenate"
   ]
  },
  {
   "cell_type": "markdown",
   "id": "88f649c7-c42a-49f1-b505-a424efc3ce40",
   "metadata": {},
   "source": [
    "## child"
   ]
  },
  {
   "cell_type": "code",
   "execution_count": 14,
   "id": "c1c67410-3441-456b-acf4-2ac3ceebc41a",
   "metadata": {},
   "outputs": [
    {
     "name": "stdout",
     "output_type": "stream",
     "text": [
      "x train shape: (7022, 5000, 12)\n",
      "x test shape: (1756, 5000, 12)\n"
     ]
    }
   ],
   "source": [
    "SRATE = 500\n",
    "ECG_FILT = 'bandpass'\n",
    "TRAIN = 'train'\n",
    "ADULT = 'child'\n",
    "NORM = 'z-norm'\n",
    "\n",
    "\n",
    "hyper_path = f'SRATE{SRATE}_ECG-{ECG_FILT}_{NORM}_{ADULT}_{TRAIN}'\n",
    "input_path = f'dataset/{hyper_path}/'\n",
    "\n",
    "with np.load(input_path+'x.npz', allow_pickle=True) as f:\n",
    "    x_train = f['x_train']\n",
    "    x_test = f['x_test']\n",
    "        \n",
    "with np.load(input_path+'y.npz', allow_pickle=True) as f:\n",
    "    y_train = f['y_train']\n",
    "    y_test = f['y_test']\n",
    "    \n",
    "with np.load(input_path+'c.npz', allow_pickle=True) as f:\n",
    "    c_train = f['c_train']\n",
    "    c_test = f['c_test']  \n",
    "    \n",
    "with np.load(input_path+'g.npz', allow_pickle=True) as f:\n",
    "    g_train = f['g_train']\n",
    "    g_test = f['g_test']        \n",
    "    \n",
    "print(f'x train shape: {x_train.shape}')\n",
    "print(f'x test shape: {x_test.shape}')"
   ]
  },
  {
   "cell_type": "code",
   "execution_count": 30,
   "id": "fb95e51a-ac3b-4def-842c-b45f23c28b42",
   "metadata": {},
   "outputs": [
    {
     "name": "stdout",
     "output_type": "stream",
     "text": [
      "child_train_male\n",
      "feature (3891, 55), signal (3891, 5000, 12)\n",
      "child_train_female\n",
      "feature (3133, 55), signal (3133, 5000, 12)\n"
     ]
    }
   ],
   "source": [
    "GENDER = 'male'\n",
    "TRAIN = 'train'\n",
    "hyper_path = f'SRATE{SRATE}_ECG-{ECG_FILT}_{NORM}_{ADULT}_{GENDER}_{TRAIN}'\n",
    "FILENAME = f'dataset/{ADULT}_{TRAIN}_{GENDER}.npz'\n",
    "with np.load(open(FILENAME, 'rb'), allow_pickle=True) as f:\n",
    "    caseid_m = f['caseid']\n",
    "    x_feature_m, x_signal_m, y_m = f['X_feature'], f['X_signal'], f['y']\n",
    "\n",
    "print(f'{ADULT}_{TRAIN}_{GENDER}')\n",
    "print(f'feature {x_feature_m.shape}, signal {x_signal_m.shape}')\n",
    "\n",
    "\n",
    "GENDER = 'female'\n",
    "TRAIN = 'train'\n",
    "hyper_path = f'SRATE{SRATE}_ECG-{ECG_FILT}_{NORM}_{ADULT}_{GENDER}_{TRAIN}'\n",
    "FILENAME = f'dataset/{ADULT}_{TRAIN}_{GENDER}.npz'\n",
    "with np.load(open(FILENAME, 'rb'), allow_pickle=True) as f:\n",
    "    caseid_f = f['caseid']\n",
    "    x_feature_f, x_signal_f, y_f = f['X_feature'], f['X_signal'], f['y']\n",
    "\n",
    "print(f'{ADULT}_{TRAIN}_{GENDER}')\n",
    "print(f'feature {x_feature_f.shape}, signal {x_signal_f.shape}')"
   ]
  },
  {
   "cell_type": "code",
   "execution_count": 32,
   "id": "08651e33-055e-4f59-9237-1d8845f4b1e1",
   "metadata": {},
   "outputs": [
    {
     "data": {
      "text/plain": [
       "array([4.8333335 , 5.0833335 , 0.16666667, ..., 5.8333335 , 2.25      ,\n",
       "       4.5       ], dtype=float32)"
      ]
     },
     "execution_count": 32,
     "metadata": {},
     "output_type": "execute_result"
    }
   ],
   "source": [
    "y_train"
   ]
  },
  {
   "cell_type": "code",
   "execution_count": 35,
   "id": "bf4cac9c-d74c-4b35-938c-69bc09776894",
   "metadata": {},
   "outputs": [
    {
     "data": {
      "text/plain": [
       "4.5"
      ]
     },
     "execution_count": 35,
     "metadata": {},
     "output_type": "execute_result"
    }
   ],
   "source": [
    "y_train[i]"
   ]
  },
  {
   "cell_type": "code",
   "execution_count": 49,
   "id": "5b9c395e-b32b-4834-a2c0-09a43ad9372f",
   "metadata": {
    "scrolled": true,
    "tags": []
   },
   "outputs": [
    {
     "name": "stderr",
     "output_type": "stream",
     "text": [
      " 61%|██████▏   | 4301/7022 [00:00<00:00, 13709.85it/s]"
     ]
    },
    {
     "name": "stdout",
     "output_type": "stream",
     "text": [
      "ecg_child_2166\n"
     ]
    },
    {
     "name": "stderr",
     "output_type": "stream",
     "text": [
      "100%|██████████| 7022/7022 [00:00<00:00, 13461.72it/s]\n"
     ]
    }
   ],
   "source": [
    "# child, train\n",
    "from tqdm import tqdm\n",
    "\n",
    "x_train_, y_train_, c_train_, g_train_ = [], [], [], []\n",
    "x_train_feat = []\n",
    "for i in tqdm(range(len(y_train))):\n",
    "    # male\n",
    "    if g_train[i] == 1:\n",
    "        mask = (caseid_m==c_train[i])\n",
    "    \n",
    "        # gender unknown\n",
    "        if np.sum(mask) == 0:\n",
    "            print(c_train[i])\n",
    "            continue\n",
    "            \n",
    "        #if not np.round(y_m[mask][0],2) == np.round(y_train[i], 2):\n",
    "        #    print(f'{c_train[i]}_m not matching')\n",
    "        x_train_feat.append(x_feature_m[mask][0])\n",
    "        x_train_.append(x_train[i])\n",
    "        y_train_.append(y_train[i])\n",
    "        c_train_.append(c_train[i])\n",
    "        g_train_.append(g_train[i])\n",
    "        \n",
    "    # female\n",
    "    else:\n",
    "        mask = (caseid_f==c_train[i])\n",
    "        \n",
    "        # gender unknown\n",
    "        if np.sum(mask) == 0:\n",
    "            print(c_train[i])\n",
    "            continue\n",
    "  \n",
    "        #if not np.round(y_f[mask][0],2) == np.round(y_train[i], 2):\n",
    "        #    print(f'{c_train[i]}_f not matching')\n",
    "            #print(y_f[mask][0],  y_train[i])\n",
    "            \n",
    "        x_train_feat.append(x_feature_f[mask][0])\n",
    "        x_train_.append(x_train[i])\n",
    "        y_train_.append(y_train[i])\n",
    "        c_train_.append(c_train[i])\n",
    "        g_train_.append(g_train[i])\n",
    "        \n",
    "x_train_ = np.array(x_train_)\n",
    "x_train_feat = np.array(x_train_feat)\n",
    "y_train_ = np.array(y_train_)\n",
    "c_train_ = np.array(c_train_)\n",
    "g_train_ = np.array(g_train_)"
   ]
  },
  {
   "cell_type": "code",
   "execution_count": 50,
   "id": "18df0f31-0739-468b-a7c5-87c36d77adf0",
   "metadata": {},
   "outputs": [
    {
     "name": "stdout",
     "output_type": "stream",
     "text": [
      "child_test_male\n",
      "feature (963, 55), signal (963, 5000, 12)\n",
      "child_test_female\n",
      "feature (793, 55), signal (793, 5000, 12)\n"
     ]
    }
   ],
   "source": [
    "GENDER = 'male'\n",
    "TRAIN = 'test'\n",
    "hyper_path = f'SRATE{SRATE}_ECG-{ECG_FILT}_{NORM}_{ADULT}_{GENDER}_{TRAIN}'\n",
    "FILENAME = f'dataset/{ADULT}_{TRAIN}_{GENDER}.npz'\n",
    "with np.load(open(FILENAME, 'rb'), allow_pickle=True) as f:\n",
    "    caseid_m = f['caseid']\n",
    "    x_feature_m, x_signal_m, y_m = f['X_feature'], f['X_signal'], f['y']\n",
    "\n",
    "print(f'{ADULT}_{TRAIN}_{GENDER}')\n",
    "print(f'feature {x_feature_m.shape}, signal {x_signal_m.shape}')\n",
    "\n",
    "\n",
    "GENDER = 'female'\n",
    "TRAIN = 'test'\n",
    "hyper_path = f'SRATE{SRATE}_ECG-{ECG_FILT}_{NORM}_{ADULT}_{GENDER}_{TRAIN}'\n",
    "FILENAME = f'dataset/{ADULT}_{TRAIN}_{GENDER}.npz'\n",
    "with np.load(open(FILENAME, 'rb'), allow_pickle=True) as f:\n",
    "    caseid_f = f['caseid']\n",
    "    x_feature_f, x_signal_f, y_f = f['X_feature'], f['X_signal'], f['y']\n",
    "\n",
    "print(f'{ADULT}_{TRAIN}_{GENDER}')\n",
    "print(f'feature {x_feature_f.shape}, signal {x_signal_f.shape}')"
   ]
  },
  {
   "cell_type": "code",
   "execution_count": 51,
   "id": "6ed65430-a6f0-4d84-b673-ab99994187ef",
   "metadata": {
    "scrolled": true,
    "tags": []
   },
   "outputs": [
    {
     "name": "stderr",
     "output_type": "stream",
     "text": [
      "100%|██████████| 1756/1756 [00:00<00:00, 34758.55it/s]\n"
     ]
    }
   ],
   "source": [
    "# child, test\n",
    "from tqdm import tqdm\n",
    "\n",
    "x_test_, y_test_, c_test_, g_test_ = [], [], [], []\n",
    "x_test_feat = []\n",
    "for i in tqdm(range(len(y_test))):\n",
    "    # male\n",
    "    if g_test[i] == 1:\n",
    "        mask = (caseid_m==c_test[i])\n",
    "    \n",
    "        # gender unknown\n",
    "        if np.sum(mask) == 0:\n",
    "            print(c_test[i])\n",
    "            continue\n",
    "            \n",
    "        #if not y_m[mask][0] == y_test[i]:\n",
    "        #    print(f'{c_test[i]}_m not matching')\n",
    "        x_test_feat.append(x_feature_m[mask][0])\n",
    "        x_test_.append(x_test[i])\n",
    "        y_test_.append(y_test[i])\n",
    "        c_test_.append(c_test[i])\n",
    "        g_test_.append(g_test[i])\n",
    "        \n",
    "    # female\n",
    "    else:\n",
    "        mask = (caseid_f==c_test[i])\n",
    "        \n",
    "        # gender unknown\n",
    "        if np.sum(mask) == 0:\n",
    "            print(c_test[i])\n",
    "            continue\n",
    "  \n",
    "        #if not y_f[mask][0] == y_test[i]:\n",
    "        #    print(f'{c_test[i]}_f not matching')\n",
    "            \n",
    "        x_test_feat.append(x_feature_f[mask][0])\n",
    "        x_test_.append(x_test[i])\n",
    "        y_test_.append(y_test[i])\n",
    "        c_test_.append(c_test[i])\n",
    "        g_test_.append(g_test[i])\n",
    "        \n",
    "        \n",
    "x_test_ = np.array(x_test_)\n",
    "x_test_feat = np.array(x_test_feat)\n",
    "y_test_ = np.array(y_test_)\n",
    "c_test_ = np.array(c_test_)\n",
    "g_test_ = np.array(g_test_)"
   ]
  },
  {
   "cell_type": "code",
   "execution_count": 52,
   "id": "9809c4a5-548c-4d26-86ce-bec36bfab7bd",
   "metadata": {},
   "outputs": [
    {
     "name": "stdout",
     "output_type": "stream",
     "text": [
      "x train_ shape: (7021, 5000, 12)\n",
      "feat train shape: (7021, 55)\n",
      "y_train_ shape: (7021,)\n",
      "x test_ shape: (1756, 5000, 12)\n",
      "feat test shape: (1756, 55)\n",
      "y_test_ shape: (1756,)\n"
     ]
    }
   ],
   "source": [
    "print(f'x train_ shape: {x_train_.shape}')\n",
    "print(f'feat train shape: {x_train_feat.shape}')\n",
    "print(f'y_train_ shape: {y_train_.shape}')\n",
    "print(f'x test_ shape: {x_test_.shape}')\n",
    "print(f'feat test shape: {x_test_feat.shape}')\n",
    "print(f'y_test_ shape: {y_test_.shape}')"
   ]
  },
  {
   "cell_type": "code",
   "execution_count": 53,
   "id": "fd72443a-6916-469e-abb8-97ff5eaa0974",
   "metadata": {},
   "outputs": [
    {
     "name": "stdout",
     "output_type": "stream",
     "text": [
      "saving...completed\n"
     ]
    }
   ],
   "source": [
    "# 저장하기\n",
    "\n",
    "TRAIN = 'train'\n",
    "hyper_path = f'SRATE{SRATE}_ECG-{ECG_FILT}_{NORM}_{ADULT}_{TRAIN}'\n",
    "input_path = f'dataset/{hyper_path}/signal+features'\n",
    "print('saving...', end='', flush=True)\n",
    "np.savez_compressed(input_path+'/x.npz', x_train=x_train_, x_test=x_test_)\n",
    "np.savez_compressed(input_path+'/feats.npz', feat_train=x_train_feat, feat_test=x_test_feat)\n",
    "np.savez_compressed(input_path+'/y.npz', y_train=y_train_, y_test=y_test_)\n",
    "np.savez_compressed(input_path+'/c.npz', c_train=c_train_, c_test=c_test_)\n",
    "np.savez_compressed(input_path+'/g.npz', g_train=g_train_, g_test=g_test_)\n",
    "print('completed')"
   ]
  },
  {
   "cell_type": "markdown",
   "id": "0fd0bd99-f620-46da-8c5b-449cc09b36cd",
   "metadata": {},
   "source": [
    "## adult"
   ]
  },
  {
   "cell_type": "code",
   "execution_count": 3,
   "id": "c2a47a7f-4716-434f-b554-07e29c275b81",
   "metadata": {},
   "outputs": [
    {
     "name": "stdout",
     "output_type": "stream",
     "text": [
      "x train shape: (27844, 5000, 12)\n",
      "x test shape: (6965, 5000, 12)\n"
     ]
    }
   ],
   "source": [
    "SRATE = 500\n",
    "ECG_FILT = 'bandpass'\n",
    "TRAIN = 'train'\n",
    "ADULT = 'adult'\n",
    "NORM = 'z-norm'\n",
    "\n",
    "\n",
    "hyper_path = f'SRATE{SRATE}_ECG-{ECG_FILT}_{NORM}_{ADULT}_{TRAIN}'\n",
    "input_path = f'dataset/{hyper_path}/'\n",
    "\n",
    "with np.load(input_path+'x.npz', allow_pickle=True) as f:\n",
    "    x_train = f['x_train']\n",
    "    x_test = f['x_test']\n",
    "        \n",
    "with np.load(input_path+'y.npz', allow_pickle=True) as f:\n",
    "    y_train = f['y_train']\n",
    "    y_test = f['y_test']\n",
    "    \n",
    "with np.load(input_path+'c.npz', allow_pickle=True) as f:\n",
    "    c_train = f['c_train']\n",
    "    c_test = f['c_test']  \n",
    "    \n",
    "with np.load(input_path+'g.npz', allow_pickle=True) as f:\n",
    "    g_train = f['g_train']\n",
    "    g_test = f['g_test']        \n",
    "    \n",
    "print(f'x train shape: {x_train.shape}')\n",
    "print(f'x test shape: {x_test.shape}')"
   ]
  },
  {
   "cell_type": "code",
   "execution_count": 4,
   "id": "2d5ec52a-df0f-454e-b247-1f8cc1a81880",
   "metadata": {},
   "outputs": [
    {
     "name": "stdout",
     "output_type": "stream",
     "text": [
      "adult_train_male\n",
      "feature (13391, 55), signal (13391, 5000, 12)\n",
      "adult_train_female\n",
      "feature (14514, 55), signal (14514, 5000, 12)\n"
     ]
    }
   ],
   "source": [
    "GENDER = 'male'\n",
    "TRAIN = 'train'\n",
    "hyper_path = f'SRATE{SRATE}_ECG-{ECG_FILT}_{NORM}_{ADULT}_{GENDER}_{TRAIN}'\n",
    "FILENAME = f'dataset/{ADULT}_{TRAIN}_{GENDER}.npz'\n",
    "with np.load(open(FILENAME, 'rb'), allow_pickle=True) as f:\n",
    "    caseid_m = f['caseid']\n",
    "    x_feature_m, x_signal_m, y_m = f['X_feature'], f['X_signal'], f['y']\n",
    "\n",
    "print(f'{ADULT}_{TRAIN}_{GENDER}')\n",
    "print(f'feature {x_feature_m.shape}, signal {x_signal_m.shape}')\n",
    "\n",
    "\n",
    "GENDER = 'female'\n",
    "TRAIN = 'train'\n",
    "hyper_path = f'SRATE{SRATE}_ECG-{ECG_FILT}_{NORM}_{ADULT}_{GENDER}_{TRAIN}'\n",
    "FILENAME = f'dataset/{ADULT}_{TRAIN}_{GENDER}.npz'\n",
    "with np.load(open(FILENAME, 'rb'), allow_pickle=True) as f:\n",
    "    caseid_f = f['caseid']\n",
    "    x_feature_f, x_signal_f, y_f = f['X_feature'], f['X_signal'], f['y']\n",
    "\n",
    "print(f'{ADULT}_{TRAIN}_{GENDER}')\n",
    "print(f'feature {x_feature_f.shape}, signal {x_signal_f.shape}')"
   ]
  },
  {
   "cell_type": "code",
   "execution_count": 5,
   "id": "6699d235-af28-4a59-86ed-2671a6a26390",
   "metadata": {
    "scrolled": true,
    "tags": []
   },
   "outputs": [
    {
     "name": "stderr",
     "output_type": "stream",
     "text": [
      "  3%|▎         | 932/27844 [00:00<00:05, 4485.56it/s]"
     ]
    },
    {
     "name": "stdout",
     "output_type": "stream",
     "text": [
      "ecg_adult_584\n"
     ]
    },
    {
     "name": "stderr",
     "output_type": "stream",
     "text": [
      " 11%|█         | 2958/27844 [00:00<00:06, 3903.95it/s]"
     ]
    },
    {
     "name": "stdout",
     "output_type": "stream",
     "text": [
      "ecg_adult_3013\n"
     ]
    },
    {
     "name": "stderr",
     "output_type": "stream",
     "text": [
      " 23%|██▎       | 6473/27844 [00:01<00:05, 3857.96it/s]"
     ]
    },
    {
     "name": "stdout",
     "output_type": "stream",
     "text": [
      "ecg_adult_7205\n",
      "ecg_adult_7843\n",
      "ecg_adult_8053\n"
     ]
    },
    {
     "name": "stderr",
     "output_type": "stream",
     "text": [
      " 32%|███▏      | 8782/27844 [00:02<00:05, 3678.56it/s]"
     ]
    },
    {
     "name": "stdout",
     "output_type": "stream",
     "text": [
      "ecg_adult_10451\n",
      "ecg_adult_11020\n"
     ]
    },
    {
     "name": "stderr",
     "output_type": "stream",
     "text": [
      " 46%|████▌     | 12808/27844 [00:03<00:04, 3638.90it/s]"
     ]
    },
    {
     "name": "stdout",
     "output_type": "stream",
     "text": [
      "ecg_adult_15547\n"
     ]
    },
    {
     "name": "stderr",
     "output_type": "stream",
     "text": [
      " 59%|█████▉    | 16370/27844 [00:04<00:03, 3024.16it/s]"
     ]
    },
    {
     "name": "stdout",
     "output_type": "stream",
     "text": [
      "ecg_adult_20270\n"
     ]
    },
    {
     "name": "stderr",
     "output_type": "stream",
     "text": [
      " 63%|██████▎   | 17458/27844 [00:04<00:03, 3395.99it/s]"
     ]
    },
    {
     "name": "stdout",
     "output_type": "stream",
     "text": [
      "ecg_adult_21214\n"
     ]
    },
    {
     "name": "stderr",
     "output_type": "stream",
     "text": [
      " 70%|███████   | 19621/27844 [00:05<00:02, 3582.70it/s]"
     ]
    },
    {
     "name": "stdout",
     "output_type": "stream",
     "text": [
      "ecg_adult_24208\n"
     ]
    },
    {
     "name": "stderr",
     "output_type": "stream",
     "text": [
      " 80%|███████▉  | 22178/27844 [00:06<00:01, 3617.12it/s]"
     ]
    },
    {
     "name": "stdout",
     "output_type": "stream",
     "text": [
      "ecg_adult_27481\n"
     ]
    },
    {
     "name": "stderr",
     "output_type": "stream",
     "text": [
      " 86%|████████▌ | 23972/27844 [00:06<00:01, 3554.10it/s]"
     ]
    },
    {
     "name": "stdout",
     "output_type": "stream",
     "text": [
      "ecg_adult_29470\n"
     ]
    },
    {
     "name": "stderr",
     "output_type": "stream",
     "text": [
      " 92%|█████████▏| 25748/27844 [00:07<00:00, 3409.16it/s]"
     ]
    },
    {
     "name": "stdout",
     "output_type": "stream",
     "text": [
      "ecg_adult_31635\n",
      "ecg_adult_31884\n",
      "ecg_adult_32203\n"
     ]
    },
    {
     "name": "stderr",
     "output_type": "stream",
     "text": [
      " 95%|█████████▌| 26467/27844 [00:07<00:00, 3498.36it/s]"
     ]
    },
    {
     "name": "stdout",
     "output_type": "stream",
     "text": [
      "ecg_adult_32581\n"
     ]
    },
    {
     "name": "stderr",
     "output_type": "stream",
     "text": [
      " 98%|█████████▊| 27196/27844 [00:07<00:00, 3568.79it/s]"
     ]
    },
    {
     "name": "stdout",
     "output_type": "stream",
     "text": [
      "ecg_adult_33627\n",
      "ecg_adult_33980\n"
     ]
    },
    {
     "name": "stderr",
     "output_type": "stream",
     "text": [
      "100%|██████████| 27844/27844 [00:07<00:00, 3613.87it/s]\n"
     ]
    },
    {
     "name": "stdout",
     "output_type": "stream",
     "text": [
      "ecg_adult_34669\n"
     ]
    }
   ],
   "source": [
    "# adult, train\n",
    "from tqdm import tqdm\n",
    "\n",
    "x_train_, y_train_, c_train_, g_train_ = [], [], [], []\n",
    "x_train_feat = []\n",
    "for i in tqdm(range(len(y_train))):\n",
    "    # male\n",
    "    if g_train[i] == 1:\n",
    "        mask = (caseid_m==c_train[i])\n",
    "    \n",
    "        # gender unknown\n",
    "        if np.sum(mask) == 0:\n",
    "            print(c_train[i])\n",
    "            continue\n",
    "            \n",
    "        if not y_m[mask][0] == y_train[i]:\n",
    "            print(f'{c_train[i]}_m not matching')\n",
    "        x_train_feat.append(x_feature_m[mask][0])\n",
    "        x_train_.append(x_train[i])\n",
    "        y_train_.append(y_train[i])\n",
    "        c_train_.append(c_train[i])\n",
    "        g_train_.append(g_train[i])\n",
    "        \n",
    "    # female\n",
    "    else:\n",
    "        mask = (caseid_f==c_train[i])\n",
    "        \n",
    "        # gender unknown\n",
    "        if np.sum(mask) == 0:\n",
    "            print(c_train[i])\n",
    "            continue\n",
    "  \n",
    "        if not y_f[mask][0] == y_train[i]:\n",
    "            print(f'{c_train[i]}_f not matching')\n",
    "            \n",
    "        x_train_feat.append(x_feature_f[mask][0])\n",
    "        x_train_.append(x_train[i])\n",
    "        y_train_.append(y_train[i])\n",
    "        c_train_.append(c_train[i])\n",
    "        g_train_.append(g_train[i])\n",
    "        \n",
    "x_train_ = np.array(x_train_)\n",
    "x_train_feat = np.array(x_train_feat)\n",
    "y_train_ = np.array(y_train_)\n",
    "c_train_ = np.array(c_train_)\n",
    "g_train_ = np.array(g_train_)"
   ]
  },
  {
   "cell_type": "code",
   "execution_count": 6,
   "id": "65ac7e55-0ae1-459e-a1c9-2ded17300a71",
   "metadata": {},
   "outputs": [
    {
     "name": "stdout",
     "output_type": "stream",
     "text": [
      "adult_test_male\n",
      "feature (3396, 55), signal (3396, 5000, 12)\n",
      "adult_test_female\n",
      "feature (3582, 55), signal (3582, 5000, 12)\n"
     ]
    }
   ],
   "source": [
    "GENDER = 'male'\n",
    "TRAIN = 'test'\n",
    "hyper_path = f'SRATE{SRATE}_ECG-{ECG_FILT}_{NORM}_{ADULT}_{GENDER}_{TRAIN}'\n",
    "FILENAME = f'dataset/{ADULT}_{TRAIN}_{GENDER}.npz'\n",
    "with np.load(open(FILENAME, 'rb'), allow_pickle=True) as f:\n",
    "    caseid_m = f['caseid']\n",
    "    x_feature_m, x_signal_m, y_m = f['X_feature'], f['X_signal'], f['y']\n",
    "\n",
    "print(f'{ADULT}_{TRAIN}_{GENDER}')\n",
    "print(f'feature {x_feature_m.shape}, signal {x_signal_m.shape}')\n",
    "\n",
    "\n",
    "GENDER = 'female'\n",
    "TRAIN = 'test'\n",
    "hyper_path = f'SRATE{SRATE}_ECG-{ECG_FILT}_{NORM}_{ADULT}_{GENDER}_{TRAIN}'\n",
    "FILENAME = f'dataset/{ADULT}_{TRAIN}_{GENDER}.npz'\n",
    "with np.load(open(FILENAME, 'rb'), allow_pickle=True) as f:\n",
    "    caseid_f = f['caseid']\n",
    "    x_feature_f, x_signal_f, y_f = f['X_feature'], f['X_signal'], f['y']\n",
    "\n",
    "print(f'{ADULT}_{TRAIN}_{GENDER}')\n",
    "print(f'feature {x_feature_f.shape}, signal {x_signal_f.shape}')"
   ]
  },
  {
   "cell_type": "code",
   "execution_count": 7,
   "id": "4f97e5da-98dc-457c-bb30-cedecff86c4b",
   "metadata": {},
   "outputs": [
    {
     "name": "stderr",
     "output_type": "stream",
     "text": [
      " 75%|███████▍  | 5205/6965 [00:00<00:00, 12405.22it/s]"
     ]
    },
    {
     "name": "stdout",
     "output_type": "stream",
     "text": [
      "ecg_adult_17340\n",
      "ecg_adult_18753\n"
     ]
    },
    {
     "name": "stderr",
     "output_type": "stream",
     "text": [
      "100%|██████████| 6965/6965 [00:00<00:00, 12437.82it/s]\n"
     ]
    },
    {
     "name": "stdout",
     "output_type": "stream",
     "text": [
      "ecg_adult_32269\n"
     ]
    }
   ],
   "source": [
    "# adult, test\n",
    "from tqdm import tqdm\n",
    "\n",
    "x_test_, y_test_, c_test_, g_test_ = [], [], [], []\n",
    "x_test_feat = []\n",
    "for i in tqdm(range(len(y_test))):\n",
    "    # male\n",
    "    if g_test[i] == 1:\n",
    "        mask = (caseid_m==c_test[i])\n",
    "    \n",
    "        # gender unknown\n",
    "        if np.sum(mask) == 0:\n",
    "            print(c_test[i])\n",
    "            continue\n",
    "            \n",
    "        if not y_m[mask][0] == y_test[i]:\n",
    "            print(f'{c_test[i]}_m not matching')\n",
    "        x_test_feat.append(x_feature_m[mask][0])\n",
    "        x_test_.append(x_test[i])\n",
    "        y_test_.append(y_test[i])\n",
    "        c_test_.append(c_test[i])\n",
    "        g_test_.append(g_test[i])\n",
    "        \n",
    "    # female\n",
    "    else:\n",
    "        mask = (caseid_f==c_test[i])\n",
    "        \n",
    "        # gender unknown\n",
    "        if np.sum(mask) == 0:\n",
    "            print(c_test[i])\n",
    "            continue\n",
    "  \n",
    "        if not y_f[mask][0] == y_test[i]:\n",
    "            print(f'{c_test[i]}_f not matching')\n",
    "            \n",
    "        x_test_feat.append(x_feature_f[mask][0])\n",
    "        x_test_.append(x_test[i])\n",
    "        y_test_.append(y_test[i])\n",
    "        c_test_.append(c_test[i])\n",
    "        g_test_.append(g_test[i])\n",
    "        \n",
    "        \n",
    "x_test_ = np.array(x_test_)\n",
    "x_test_feat = np.array(x_test_feat)\n",
    "y_test_ = np.array(y_test_)\n",
    "c_test_ = np.array(c_test_)\n",
    "g_test_ = np.array(g_test_)"
   ]
  },
  {
   "cell_type": "code",
   "execution_count": 9,
   "id": "0fc56c0d-5be1-4a38-96d6-1d1e7e31a5c0",
   "metadata": {},
   "outputs": [
    {
     "name": "stdout",
     "output_type": "stream",
     "text": [
      "x train_ shape: (27824, 5000, 12)\n",
      "feat train shape: (27824, 55)\n",
      "y_train_ shape: (27824,)\n",
      "x test_ shape: (6962, 5000, 12)\n",
      "feat test shape: (6962, 55)\n",
      "y_test_ shape: (6962,)\n"
     ]
    }
   ],
   "source": [
    "print(f'x train_ shape: {x_train_.shape}')\n",
    "print(f'feat train shape: {x_train_feat.shape}')\n",
    "print(f'y_train_ shape: {y_train_.shape}')\n",
    "print(f'x test_ shape: {x_test_.shape}')\n",
    "print(f'feat test shape: {x_test_feat.shape}')\n",
    "print(f'y_test_ shape: {y_test_.shape}')"
   ]
  },
  {
   "cell_type": "code",
   "execution_count": 13,
   "id": "78bb8482-09ab-4858-bf13-9fa144fe8448",
   "metadata": {},
   "outputs": [
    {
     "name": "stdout",
     "output_type": "stream",
     "text": [
      "saving...completed\n"
     ]
    }
   ],
   "source": [
    "# 저장하기\n",
    "\n",
    "TRAIN = 'train'\n",
    "hyper_path = f'SRATE{SRATE}_ECG-{ECG_FILT}_{NORM}_{ADULT}_{TRAIN}'\n",
    "input_path = f'dataset/{hyper_path}/signal+features'\n",
    "print('saving...', end='', flush=True)\n",
    "np.savez_compressed(input_path+'/x.npz', x_train=x_train_, x_test=x_test_)\n",
    "np.savez_compressed(input_path+'/feats.npz', feat_train=x_train_feat, feat_test=x_test_feat)\n",
    "np.savez_compressed(input_path+'/y.npz', y_train=y_train_, y_test=y_test_)\n",
    "np.savez_compressed(input_path+'/c.npz', c_train=c_train_, c_test=c_test_)\n",
    "np.savez_compressed(input_path+'/g.npz', g_train=g_train_, g_test=g_test_)\n",
    "print('completed')"
   ]
  },
  {
   "cell_type": "code",
   "execution_count": 40,
   "id": "2c8c4ffa-67e7-4ede-81c7-d4876a287b44",
   "metadata": {
    "tags": []
   },
   "outputs": [
    {
     "data": {
      "text/plain": [
       "[<matplotlib.lines.Line2D at 0x7f3df2739df0>]"
      ]
     },
     "execution_count": 40,
     "metadata": {},
     "output_type": "execute_result"
    },
    {
     "data": {
      "image/png": "[encoded data removed]",
      "text/plain": [
       "<Figure size 640x480 with 1 Axes>"
      ]
     },
     "metadata": {},
     "output_type": "display_data"
    }
   ],
   "source": [
    "plt.plot(x_signal_m[caseid_m==c_train[0],:,0].flatten())"
   ]
  },
  {
   "cell_type": "code",
   "execution_count": 41,
   "id": "e9b80962-8620-4d72-b31a-36eea10a9ba0",
   "metadata": {},
   "outputs": [
    {
     "data": {
      "text/plain": [
       "[<matplotlib.lines.Line2D at 0x7f3df2718f70>]"
      ]
     },
     "execution_count": 41,
     "metadata": {},
     "output_type": "execute_result"
    },
    {
     "data": {
      "image/png": "[encoded data removed]",
      "text/plain": [
       "<Figure size 640x480 with 1 Axes>"
      ]
     },
     "metadata": {},
     "output_type": "display_data"
    }
   ],
   "source": [
    "plt.plot(x_train[0,:,0].flatten())"
   ]
  },
  {
   "cell_type": "code",
   "execution_count": 13,
   "id": "38880a9b-2506-4f5b-8abc-fdbf0f4bcf2e",
   "metadata": {},
   "outputs": [
    {
     "data": {
      "text/plain": [
       "0"
      ]
     },
     "execution_count": 13,
     "metadata": {},
     "output_type": "execute_result"
    }
   ],
   "source": [
    "np.sum(np.isnan(x_signal))"
   ]
  },
  {
   "cell_type": "markdown",
   "id": "053135bf-2792-41bc-adb2-1a17f3b0f263",
   "metadata": {},
   "source": [
    "# Augmentation"
   ]
  },
  {
   "cell_type": "code",
   "execution_count": 2,
   "id": "faec91ed-6fd7-4d62-90d9-86791a18f0bc",
   "metadata": {},
   "outputs": [],
   "source": [
    "import numpy as np\n",
    "from tqdm import tqdm\n",
    "\n",
    "class lead_extractor:\n",
    "    \"\"\"\n",
    "    used to select specific leads or random choice of configurations\n",
    "\n",
    "    Twelve leads: I, II, III, V1, V2, V3, V4, V5, V6, aVR, aVL, aVF, \n",
    "    Six leads: I, II, V1, V3, V4, V6\n",
    "    Four leads: III, V1, V2, aVL # I, II, III, V2\n",
    "    Three leads: I, II, V2\n",
    "    Two leads: I, II\n",
    "\n",
    "    \"\"\"\n",
    "    L2 = np.array([1,1,0,0,0,0,0,0,0,0,0,0])\n",
    "    L3 = np.array([1,1,0,0,0,0,0,1,0,0,0,0])\n",
    "    L4 = np.array([0,0,1,1,1,0,0,0,0,0,1,0]) #([1,1,1,0,0,0,0,1,0,0,0,0])\n",
    "    L6 = np.array([1,1,0,1,0,1,1,0,1,0,0,0])\n",
    "    L8 = np.array([1,1,0,1,0,1,1,1,1,0,1,0])\n",
    "    L12 = np.array([1,1,1,1,1,1,1,1,1,1,1,1])\n",
    "\n",
    "    @staticmethod\n",
    "    def get (x,num_leads):\n",
    "        if num_leads==None:\n",
    "            # random choice output\n",
    "            num_leads = random.choice([12,8,6,4,3,2])\n",
    "\n",
    "        if num_leads==12:\n",
    "            # Twelve leads: I, II, III, aVR, aVL, aVF, V1, V2, V3, V4, V5, V6\n",
    "            return x\n",
    "\n",
    "        if num_leads==8:\n",
    "            # Six leads: I, II, III, aVL, aVR, aVF\n",
    "            x = x * lead_extractor.L8\n",
    "            return x\n",
    "\n",
    "        if num_leads==6:\n",
    "            # Six leads: I, II, III, aVL, aVR, aVF\n",
    "            x = x * lead_extractor.L6\n",
    "            return x\n",
    "\n",
    "        if num_leads==4:\n",
    "            # Six leads: I, II, III, V2\n",
    "            x = x * lead_extractor.L4\n",
    "            return x\n",
    "\n",
    "        if num_leads==3:\n",
    "            # Three leads: I, II, V2\n",
    "            x = x * lead_extractor.L3\n",
    "            return x\n",
    "\n",
    "        if num_leads==2:\n",
    "            # Two leads: II, V5\n",
    "            x = x * lead_extractor.L2\n",
    "            return x\n",
    "        raise Exception(\"invalid-leads-number\")"
   ]
  },
  {
   "cell_type": "code",
   "execution_count": 1,
   "id": "22d5fef5-88ac-4651-a278-9521a813a051",
   "metadata": {},
   "outputs": [],
   "source": [
    "def aug_generator(x_train, feat_train, y_train, c_train, g_train):\n",
    "    x_train_, feat_train_, y_train_, c_train_, g_train_ = [], [], [], [], []\n",
    "    for i in tqdm(range(x_train.shape[0])):\n",
    "        x_train_.append(x_train[i])\n",
    "        feat_train_.append(feat_train[i])\n",
    "        y_train_.append(y_train[i])\n",
    "        c_train_.append(c_train[i])\n",
    "        g_train_.append(g_train[i])\n",
    "\n",
    "        x_train_.append(lead_extractor.get(x_train[i], 8))\n",
    "        feat_train_.append(feat_train[i])\n",
    "        y_train_.append(y_train[i])\n",
    "        c_train_.append(c_train[i])\n",
    "        g_train_.append(g_train[i])    \n",
    "\n",
    "        x_train_.append(lead_extractor.get(x_train[i], 6))\n",
    "        feat_train_.append(feat_train[i])\n",
    "        y_train_.append(y_train[i])\n",
    "        c_train_.append(c_train[i])\n",
    "        g_train_.append(g_train[i])  \n",
    "\n",
    "        x_train_.append(lead_extractor.get(x_train[i], 4))\n",
    "        feat_train_.append(feat_train[i])\n",
    "        y_train_.append(y_train[i])\n",
    "        c_train_.append(c_train[i])\n",
    "        g_train_.append(g_train[i]) \n",
    "\n",
    "    x_train_ = np.array(x_train_, np.float32)\n",
    "    feat_train_ = np.array(feat_train_, np.float32)\n",
    "    y_train_ = np.array(y_train_, np.float32)\n",
    "    c_train_ = np.array(c_train_)\n",
    "    g_train_ = np.array(g_train_, np.float32)\n",
    "\n",
    "    print(f'x shape: {x_train_.shape}')\n",
    "    print(f'feat shape: {feat_train_.shape}')\n",
    "    print(f'y shape: {y_train_.shape}')\n",
    "    \n",
    "    return x_train_, feat_train_, y_train_, c_train_, g_train_"
   ]
  },
  {
   "cell_type": "markdown",
   "id": "e8ff3900-2233-4424-97c0-d2252601d4f2",
   "metadata": {},
   "source": [
    "### adult"
   ]
  },
  {
   "cell_type": "code",
   "execution_count": 3,
   "id": "be95e5ee-845a-4c30-a9b7-6bee7040eacd",
   "metadata": {},
   "outputs": [
    {
     "name": "stdout",
     "output_type": "stream",
     "text": [
      "x train shape: (27824, 5000, 12)\n",
      "feat train shape: (27824, 55)\n",
      "x test shape: (6962, 5000, 12)\n",
      "feat test shape: (6962, 55)\n",
      "x train shape: (27824, 5000, 12)\n",
      "feat train shape: (27824, 55)\n",
      "x test shape: (6962, 5000, 12)\n",
      "feat test shape: (6962, 55)\n"
     ]
    }
   ],
   "source": [
    "# lead 12, 8, 6, 4, 3 조합\n",
    "\n",
    "SRATE = 500\n",
    "ECG_FILT = 'bandpass'\n",
    "TRAIN = 'train'\n",
    "ADULT = 'adult'\n",
    "NORM = 'z-norm'\n",
    "\n",
    "\n",
    "hyper_path = f'SRATE{SRATE}_ECG-{ECG_FILT}_{NORM}_{ADULT}_{TRAIN}'\n",
    "input_path = f'dataset/{hyper_path}/signal+features/'\n",
    "\n",
    "with np.load(input_path+'x.npz', allow_pickle=True) as f:\n",
    "    x_train = f['x_train']\n",
    "    x_test = f['x_test']    \n",
    "\n",
    "with np.load(input_path+'feats.npz', allow_pickle=True) as f:\n",
    "    feat_train = f['feat_train']\n",
    "    feat_test = f['feat_test']\n",
    "        \n",
    "with np.load(input_path+'y.npz', allow_pickle=True) as f:\n",
    "    y_train = f['y_train']\n",
    "    y_test = f['y_test']\n",
    "    \n",
    "with np.load(input_path+'c.npz', allow_pickle=True) as f:\n",
    "    c_train = f['c_train']\n",
    "    c_test = f['c_test']  \n",
    "    \n",
    "with np.load(input_path+'g.npz', allow_pickle=True) as f:\n",
    "    g_train = f['g_train']\n",
    "    g_test = f['g_test']        \n",
    "    \n",
    "print(f'x train shape: {x_train.shape}')\n",
    "print(f'feat train shape: {feat_train.shape}')\n",
    "print(f'x test shape: {x_test.shape}')\n",
    "print(f'feat test shape: {feat_test.shape}')\n",
    "print(f'x train shape: {x_train.shape}')\n",
    "print(f'feat train shape: {feat_train.shape}')\n",
    "print(f'x test shape: {x_test.shape}')\n",
    "print(f'feat test shape: {feat_test.shape}')"
   ]
  },
  {
   "cell_type": "code",
   "execution_count": 5,
   "id": "bf47bc0a-b170-438a-8693-0bcbe53d4a6b",
   "metadata": {},
   "outputs": [
    {
     "name": "stderr",
     "output_type": "stream",
     "text": [
      "100%|██████████| 27824/27824 [00:20<00:00, 1372.55it/s]\n"
     ]
    },
    {
     "name": "stdout",
     "output_type": "stream",
     "text": [
      "x shape: (111296, 5000, 12)\n",
      "feat shape: (111296, 55)\n",
      "y shape: (111296,)\n"
     ]
    },
    {
     "name": "stderr",
     "output_type": "stream",
     "text": [
      "100%|██████████| 6962/6962 [00:03<00:00, 2057.59it/s]\n"
     ]
    },
    {
     "name": "stdout",
     "output_type": "stream",
     "text": [
      "x shape: (27848, 5000, 12)\n",
      "feat shape: (27848, 55)\n",
      "y shape: (27848,)\n"
     ]
    }
   ],
   "source": [
    "x_train_, feat_train_, y_train_, c_train_, g_train_ = aug_generator(x_train, feat_train, y_train, c_train, g_train)\n",
    "x_test_, feat_test_, y_test_, c_test_, g_test_ = aug_generator(x_test, feat_test, y_test, c_test, g_test)"
   ]
  },
  {
   "cell_type": "code",
   "execution_count": 7,
   "id": "c2069a3b-23bc-4e7a-812b-5ad4b8eeef04",
   "metadata": {},
   "outputs": [
    {
     "name": "stdout",
     "output_type": "stream",
     "text": [
      "saving..."
     ]
    }
   ],
   "source": [
    "import os\n",
    "\n",
    "hyper_path = f'SRATE{SRATE}_ECG-{ECG_FILT}_{NORM}_{ADULT}_{TRAIN}'\n",
    "input_path = f'dataset/{hyper_path}/signal+features+aug(12,8,6,4)'\n",
    "if not os.path.exists(input_path):\n",
    "    os.mkdir(input_path)  \n",
    "\n",
    "print('saving...', end='', flush=True)\n",
    "np.savez_compressed(input_path+'/x.npz', x_train=x_train_, x_test=x_test_)\n",
    "np.savez_compressed(input_path+'/feats.npz', feat_train=feat_train_, feat_test=feat_test_)\n",
    "np.savez_compressed(input_path+'/y.npz', y_train=y_train_, y_test=y_test_)\n",
    "np.savez_compressed(input_path+'/c.npz', c_train=c_train_, c_test=c_test_)\n",
    "np.savez_compressed(input_path+'/g.npz', g_train=g_train_, g_test=g_test_)"
   ]
  },
  {
   "cell_type": "markdown",
   "id": "c696a614-9838-47de-9002-0e55726371b6",
   "metadata": {},
   "source": [
    "### child"
   ]
  },
  {
   "cell_type": "code",
   "execution_count": 8,
   "id": "a628f8ea-df84-4ecf-b153-c57ceb0da2e2",
   "metadata": {},
   "outputs": [
    {
     "name": "stdout",
     "output_type": "stream",
     "text": [
      "x train shape: (7021, 5000, 12)\n",
      "feat train shape: (7021, 55)\n",
      "x test shape: (1756, 5000, 12)\n",
      "feat test shape: (1756, 55)\n",
      "x train shape: (7021, 5000, 12)\n",
      "feat train shape: (7021, 55)\n",
      "x test shape: (1756, 5000, 12)\n",
      "feat test shape: (1756, 55)\n"
     ]
    }
   ],
   "source": [
    "# lead 12, 8, 6, 4, 3 조합\n",
    "\n",
    "SRATE = 500\n",
    "ECG_FILT = 'bandpass'\n",
    "TRAIN = 'train'\n",
    "ADULT = 'child'\n",
    "NORM = 'z-norm'\n",
    "\n",
    "\n",
    "hyper_path = f'SRATE{SRATE}_ECG-{ECG_FILT}_{NORM}_{ADULT}_{TRAIN}'\n",
    "input_path = f'dataset/{hyper_path}/signal+features/'\n",
    "\n",
    "with np.load(input_path+'x.npz', allow_pickle=True) as f:\n",
    "    x_train = f['x_train']\n",
    "    x_test = f['x_test']    \n",
    "\n",
    "with np.load(input_path+'feats.npz', allow_pickle=True) as f:\n",
    "    feat_train = f['feat_train']\n",
    "    feat_test = f['feat_test']\n",
    "        \n",
    "with np.load(input_path+'y.npz', allow_pickle=True) as f:\n",
    "    y_train = f['y_train']\n",
    "    y_test = f['y_test']\n",
    "    \n",
    "with np.load(input_path+'c.npz', allow_pickle=True) as f:\n",
    "    c_train = f['c_train']\n",
    "    c_test = f['c_test']  \n",
    "    \n",
    "with np.load(input_path+'g.npz', allow_pickle=True) as f:\n",
    "    g_train = f['g_train']\n",
    "    g_test = f['g_test']        \n",
    "    \n",
    "print(f'x train shape: {x_train.shape}')\n",
    "print(f'feat train shape: {feat_train.shape}')\n",
    "print(f'x test shape: {x_test.shape}')\n",
    "print(f'feat test shape: {feat_test.shape}')\n",
    "print(f'x train shape: {x_train.shape}')\n",
    "print(f'feat train shape: {feat_train.shape}')\n",
    "print(f'x test shape: {x_test.shape}')\n",
    "print(f'feat test shape: {feat_test.shape}')"
   ]
  },
  {
   "cell_type": "code",
   "execution_count": 9,
   "id": "f1a4a33c-8eaf-4288-8971-313cb1e378d9",
   "metadata": {},
   "outputs": [
    {
     "name": "stderr",
     "output_type": "stream",
     "text": [
      "100%|██████████| 7021/7021 [00:03<00:00, 2026.42it/s]\n"
     ]
    },
    {
     "name": "stdout",
     "output_type": "stream",
     "text": [
      "x shape: (28084, 5000, 12)\n",
      "feat shape: (28084, 55)\n",
      "y shape: (28084,)\n"
     ]
    },
    {
     "name": "stderr",
     "output_type": "stream",
     "text": [
      "100%|██████████| 1756/1756 [00:00<00:00, 2040.52it/s]\n"
     ]
    },
    {
     "name": "stdout",
     "output_type": "stream",
     "text": [
      "x shape: (7024, 5000, 12)\n",
      "feat shape: (7024, 55)\n",
      "y shape: (7024,)\n"
     ]
    }
   ],
   "source": [
    "x_train_, feat_train_, y_train_, c_train_, g_train_ = aug_generator(x_train, feat_train, y_train, c_train, g_train)\n",
    "x_test_, feat_test_, y_test_, c_test_, g_test_ = aug_generator(x_test, feat_test, y_test, c_test, g_test)"
   ]
  },
  {
   "cell_type": "code",
   "execution_count": 10,
   "id": "999134af-eef9-4f08-8b49-07f9e50df90c",
   "metadata": {},
   "outputs": [
    {
     "name": "stdout",
     "output_type": "stream",
     "text": [
      "saving..."
     ]
    }
   ],
   "source": [
    "import os\n",
    "\n",
    "hyper_path = f'SRATE{SRATE}_ECG-{ECG_FILT}_{NORM}_{ADULT}_{TRAIN}'\n",
    "input_path = f'dataset/{hyper_path}/signal+features+aug(12,8,6,4)'\n",
    "if not os.path.exists(input_path):\n",
    "    os.mkdir(input_path)  \n",
    "\n",
    "print('saving...', end='', flush=True)\n",
    "np.savez_compressed(input_path+'/x.npz', x_train=x_train_, x_test=x_test_)\n",
    "np.savez_compressed(input_path+'/feats.npz', feat_train=feat_train_, feat_test=feat_test_)\n",
    "np.savez_compressed(input_path+'/y.npz', y_train=y_train_, y_test=y_test_)\n",
    "np.savez_compressed(input_path+'/c.npz', c_train=c_train_, c_test=c_test_)\n",
    "np.savez_compressed(input_path+'/g.npz', g_train=g_train_, g_test=g_test_)"
   ]
  },
  {
   "cell_type": "markdown",
   "id": "0ee67fa3-14ef-4449-ac52-0afddf6f8da8",
   "metadata": {
    "jp-MarkdownHeadingCollapsed": true,
    "tags": []
   },
   "source": [
    "# Validation"
   ]
  },
  {
   "cell_type": "code",
   "execution_count": 100,
   "id": "285cac90-48fd-4a67-81df-4da098094de9",
   "metadata": {},
   "outputs": [
    {
     "name": "stderr",
     "output_type": "stream",
     "text": [
      "  0%|          | 0/34907 [00:00<?, ?it/s]\n"
     ]
    },
    {
     "ename": "NameError",
     "evalue": "name 'model_adult_male' is not defined",
     "output_type": "error",
     "traceback": [
      "\u001b[0;31m---------------------------------------------------------------------------\u001b[0m",
      "\u001b[0;31mNameError\u001b[0m                                 Traceback (most recent call last)",
      "Cell \u001b[0;32mIn[100], line 12\u001b[0m\n\u001b[1;32m     10\u001b[0m \u001b[38;5;28;01mif\u001b[39;00m \u001b[38;5;124m'\u001b[39m\u001b[38;5;124madult\u001b[39m\u001b[38;5;124m'\u001b[39m \u001b[38;5;129;01min\u001b[39;00m row[\u001b[38;5;124m'\u001b[39m\u001b[38;5;124mFILENAME\u001b[39m\u001b[38;5;124m'\u001b[39m]:\n\u001b[1;32m     11\u001b[0m     ADULT \u001b[38;5;241m=\u001b[39m \u001b[38;5;124m'\u001b[39m\u001b[38;5;124madult\u001b[39m\u001b[38;5;124m'\u001b[39m\n\u001b[0;32m---> 12\u001b[0m     model \u001b[38;5;241m=\u001b[39m \u001b[43mmodel_adult_male\u001b[49m \u001b[38;5;28;01mif\u001b[39;00m row[\u001b[38;5;124m'\u001b[39m\u001b[38;5;124mGENDER\u001b[39m\u001b[38;5;124m'\u001b[39m] \u001b[38;5;241m==\u001b[39m \u001b[38;5;124m'\u001b[39m\u001b[38;5;124mMALE\u001b[39m\u001b[38;5;124m'\u001b[39m \u001b[38;5;28;01melse\u001b[39;00m model_adult_female\n\u001b[1;32m     13\u001b[0m \u001b[38;5;28;01melse\u001b[39;00m:\n\u001b[1;32m     14\u001b[0m     ADULT \u001b[38;5;241m=\u001b[39m \u001b[38;5;124m'\u001b[39m\u001b[38;5;124mchild\u001b[39m\u001b[38;5;124m'\u001b[39m\n",
      "\u001b[0;31mNameError\u001b[0m: name 'model_adult_male' is not defined"
     ]
    }
   ],
   "source": [
    "SRATE = 500\n",
    "TRAIN = 'train'\n",
    "ADULT = 'adult'\n",
    "NORM = 'z-norm'\n",
    "LEADS = np.arange(12)\n",
    "ECG_FILT = 'bandpass'\n",
    "\n",
    "df_sub = pd.read_csv(f'ECG_{ADULT}_age_{TRAIN}.csv')\n",
    "for idx, row in tqdm(df_sub.iterrows(), total=df_sub.shape[0]):\n",
    "    if 'adult' in row['FILENAME']:\n",
    "        ADULT = 'adult'\n",
    "        model = model_adult_male if row['GENDER'] == 'MALE' else model_adult_female\n",
    "    else:\n",
    "        ADULT = 'child'\n",
    "        model = model_child_male if row['GENDER'] == 'MALE' else model_child_female\n",
    "          \n",
    "    file_path = f'dataset/ECG_{ADULT}_numpy_{TRAIN}'\n",
    "    caseid = row['FILENAME']\n",
    "    \n",
    "    seg_ecg = np.load(f'{file_path}/{caseid}.npy')\n",
    "    seg_ecg = ECG_filter(pd.DataFrame(seg_ecg).fillna(method='ffill', axis=0).fillna(method='bfill', axis=0).values.flatten(), method=ECG_FILT, srate=SRATE)\n",
    "    \n",
    "    # invalid ecg\n",
    "    if len(np.unique(seg_ecg)) == 1:\n",
    "        df_sub.loc[idx, 'AGE'] = 65 if ADULT == 'adult' else 4\n",
    "        continue\n",
    "    \n",
    "    # NORM = z-norm\n",
    "    ecg_input = []\n",
    "    for i in LEADS:\n",
    "        ecg_input.append(stats.zscore(seg_ecg[5000*i:5000*(i+1)]))\n",
    "\n",
    "    df_sub.loc[idx, 'AGE'] = model.predict(np.array(ecg_input).reshape(1,12,5000).transpose((0,2,1)), verbose=0).flatten()[0]   "
   ]
  }
 ],
 "metadata": {
  "kernelspec": {
   "display_name": "hskim",
   "language": "python",
   "name": "hskim"
  },
  "language_info": {
   "codemirror_mode": {
    "name": "ipython",
    "version": 3
   },
   "file_extension": ".py",
   "mimetype": "text/x-python",
   "name": "python",
   "nbconvert_exporter": "python",
   "pygments_lexer": "ipython3",
   "version": "3.8.18"
  }
 },
 "nbformat": 4,
 "nbformat_minor": 5
}
