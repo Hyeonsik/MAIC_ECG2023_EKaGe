{
 "cells": [
  {
   "cell_type": "code",
   "execution_count": 1,
   "id": "fa2be838-50f7-4465-b4e0-1dc5158b4632",
   "metadata": {},
   "outputs": [
    {
     "name": "stderr",
     "output_type": "stream",
     "text": [
      "2023-09-22 15:27:14.301660: I tensorflow/core/platform/cpu_feature_guard.cc:193] This TensorFlow binary is optimized with oneAPI Deep Neural Network Library (oneDNN) to use the following CPU instructions in performance-critical operations:  AVX2 FMA\n",
      "To enable them in other operations, rebuild TensorFlow with the appropriate compiler flags.\n",
      "2023-09-22 15:27:15.029644: W tensorflow/compiler/xla/stream_executor/platform/default/dso_loader.cc:64] Could not load dynamic library 'libnvinfer.so.7'; dlerror: libnvinfer.so.7: cannot open shared object file: No such file or directory; LD_LIBRARY_PATH: /opt/anaconda-3-2020.02/envs/hskim/lib/python3.8/site-packages/nvidia/cuda_nvrtc/lib:/opt/anaconda-3-2020.02/envs/hskim/lib/python3.8/site-packages/nvidia/cudnn/lib:/opt/anaconda-3-2020.02/envs/hskim/lib/python3.8/site-packages/nvidia/cublas/lib:/opt/anaconda-3-2020.02/envs/hskim/lib/python3.8/site-packages/nvidia/cudnn/lib:/opt/anaconda-3-2020.02/envs/hskim/lib/:/usr/local/cudnn-112-81133/lib64:/usr/local/cuda-11.2/lib64:/lib/x86_64-linux-gnu:/opt/anaconda-3-2020.02/lib\n",
      "2023-09-22 15:27:15.029709: W tensorflow/compiler/xla/stream_executor/platform/default/dso_loader.cc:64] Could not load dynamic library 'libnvinfer_plugin.so.7'; dlerror: libnvinfer_plugin.so.7: cannot open shared object file: No such file or directory; LD_LIBRARY_PATH: /opt/anaconda-3-2020.02/envs/hskim/lib/python3.8/site-packages/nvidia/cuda_nvrtc/lib:/opt/anaconda-3-2020.02/envs/hskim/lib/python3.8/site-packages/nvidia/cudnn/lib:/opt/anaconda-3-2020.02/envs/hskim/lib/python3.8/site-packages/nvidia/cublas/lib:/opt/anaconda-3-2020.02/envs/hskim/lib/python3.8/site-packages/nvidia/cudnn/lib:/opt/anaconda-3-2020.02/envs/hskim/lib/:/usr/local/cudnn-112-81133/lib64:/usr/local/cuda-11.2/lib64:/lib/x86_64-linux-gnu:/opt/anaconda-3-2020.02/lib\n",
      "2023-09-22 15:27:15.029715: W tensorflow/compiler/tf2tensorrt/utils/py_utils.cc:38] TF-TRT Warning: Cannot dlopen some TensorRT libraries. If you would like to use Nvidia GPU with TensorRT, please make sure the missing libraries mentioned above are installed properly.\n"
     ]
    },
    {
     "name": "stdout",
     "output_type": "stream",
     "text": [
      "2023-09-22 15:27:16.416832\n"
     ]
    }
   ],
   "source": [
    "import sys\n",
    "sys.path.append('./.local/lib/python3.8/site-packages')\n",
    "sys.path.append('/usr/lib/python3/dist-packages')\n",
    "\n",
    "from tqdm import tqdm\n",
    "from keras import losses, metrics\n",
    "from keras.models import Sequential, Model, load_model, model_from_json\n",
    "from tensorflow.keras.optimizers import Adam\n",
    "from keras.layers import Dense, Conv1D, MaxPooling1D, GlobalMaxPooling1D, BatchNormalization, Dropout, Activation, Input\n",
    "from keras.layers import GlobalAveragePooling1D, Flatten, SeparableConv1D, concatenate, Add\n",
    "from keras.callbacks import ModelCheckpoint, EarlyStopping\n",
    "from sklearn.metrics import auc, classification_report, confusion_matrix, accuracy_score, roc_curve, roc_auc_score, f1_score, precision_recall_curve\n",
    "import tensorflow as tf\n",
    "import itertools as it\n",
    "import matplotlib.pyplot as plt\n",
    "import statsmodels.api as sm\n",
    "from scipy import stats, interp\n",
    "import os, sys, pickle, shutil\n",
    "import pandas as pd\n",
    "import numpy as np\n",
    "import random, datetime, time\n",
    "from sklearn.model_selection import KFold\n",
    "#from keras.utils.training_utils import multi_gpu_model\n",
    "\n",
    "\n",
    "# tensorflow 사용 시 seed 고정\n",
    "def seed_everything(seed: int = 42):\n",
    "    random.seed(seed)\n",
    "    np.random.seed(seed)\n",
    "    os.environ[\"PYTHONHASHSEED\"] = str(seed)\n",
    "    tf.random.set_seed(seed)\n",
    "    \n",
    "SEED = 98\n",
    "GPU = 1\n",
    "os.environ[\"CUDA_DEVICE_ORDER\"]=\"PCI_BUS_ID\"  \n",
    "os.environ[\"CUDA_VISIBLE_DEVICES\"]= f\"{GPU}\"  \n",
    "\n",
    "print(datetime.datetime.now())"
   ]
  },
  {
   "cell_type": "code",
   "execution_count": 2,
   "id": "275addda-80c0-47cc-89f0-150cf96050c8",
   "metadata": {},
   "outputs": [],
   "source": [
    "def ECG_filter(seg, method, srate):\n",
    "    if method == 'bandpass':\n",
    "        import scipy.signal\n",
    "        sos = scipy.signal.butter(3, [1,47], 'bandpass', output='sos', fs=srate)\n",
    "        return scipy.signal.sosfilt(sos, seg)\n",
    "    # lowess랑 수학적으로 동일한데 더 빠름 - 대신 계수 체크 필요\n",
    "    elif method == 'savgol':\n",
    "        import scipy.signal\n",
    "        return seg - scipy.signal.savgol_filter(seg, 1151, 3)\n",
    "    \n",
    "    elif method == 'lowess':\n",
    "        import statsmodels.api as sm\n",
    "        x = np.arange(0, len(seg))\n",
    "        return seg - sm.nonparametric.lowess(seg, x, frac=0.2, it=0)[:, 1].T\n",
    "\n",
    "    else:\n",
    "        print('not a valid filter')\n",
    "        return seg"
   ]
  },
  {
   "cell_type": "code",
   "execution_count": 39,
   "id": "385a5295-4925-45c8-8994-288d3060d03b",
   "metadata": {},
   "outputs": [
    {
     "name": "stdout",
     "output_type": "stream",
     "text": [
      "adult-male-best model: mae7.52_lr0.001_drop0.3_epochs_drop5_decay0.0001_mae\n",
      "adult-female-best model: mae7.31_mae7.60+-_batch32_lr0.001_drop0.4_epochs_drop5_decay1e-4_mse\n",
      "child-male-best model: mae0.53_lr0.001_drop0.4_epochs_drop5_decay0.0001_mae\n",
      "child-female-best model: mae0.55_lr0.001_drop0.4_epochs_drop5_decay0.0001_mae\n"
     ]
    }
   ],
   "source": [
    "from keras.models import model_from_json\n",
    "\n",
    "\n",
    "def best_model(models_dir, adult, gender):\n",
    "    #hyper_path = f'SRATE{SRATE}_ECG-{ECG_FILT}_{NORM}_{adult}_{gender}_{TRAIN}'\n",
    "    #models_dir = f\"randomSearch/{hyper_path}/CNN_4layers_{nfold}fold_test{ntest}\"\n",
    "    model_list = np.array(os.listdir(models_dir))\n",
    "    \n",
    "    mask = [(True if ('mae' in path) else False) for path in model_list]\n",
    "    model_list = model_list[mask]\n",
    "    \n",
    "    perf_list = [float(path.split('_',1)[0][3:]) for path in model_list]\n",
    "    best_model_path = model_list[np.argmin(perf_list)]\n",
    "    \n",
    "    print(f'{adult}-{gender}-best model: {best_model_path}')\n",
    "    \n",
    "    load_path = f'{models_dir}/{best_model_path}'\n",
    "    with open(load_path+\"/model.json\", 'r') as f_json:\n",
    "        loaded_model_json = f_json.read()\n",
    "        \n",
    "    loaded_model = model_from_json(loaded_model_json)\n",
    "    load_weight_path = load_path+'/weights.hdf5'\n",
    "    loaded_model.load_weights(load_weight_path)\n",
    "    return loaded_model\n",
    "\n",
    "\n",
    "\n",
    "SRATE = 500\n",
    "ECG_FILT = 'bandpass'\n",
    "TRAIN = 'train'\n",
    "ADULT = 'adult'\n",
    "NORM = 'z-norm'\n",
    "GENDER = 'male'\n",
    "\n",
    "hyper_path = f'SRATE{SRATE}_ECG-{ECG_FILT}_{NORM}_{ADULT}_{GENDER}_{TRAIN}'\n",
    "input_path = f'dataset/{hyper_path}/'\n",
    "\n",
    "nfold = 4 \n",
    "ntest = 500\n",
    "rootdir = f\"randomSearch/{hyper_path}/CNN_4layers_{nfold}fold_test{ntest}\"\n",
    "\n",
    "# loading best model in rootdir\n",
    "ADULT = 'adult'\n",
    "GENDER = 'male'\n",
    "hyper_path = f'SRATE{SRATE}_ECG-{ECG_FILT}_{NORM}_{ADULT}_{GENDER}_{TRAIN}'\n",
    "rootdir = f'randomSearch/best_model/{hyper_path}'\n",
    "model_adult_male = best_model(rootdir, ADULT, GENDER)\n",
    "\n",
    "ADULT = 'adult'\n",
    "GENDER = 'female'\n",
    "hyper_path = f'SRATE{SRATE}_ECG-{ECG_FILT}_{NORM}_{ADULT}_{GENDER}_{TRAIN}'\n",
    "rootdir = f'randomSearch/best_model/{hyper_path}'\n",
    "model_adult_female = best_model(rootdir, ADULT, GENDER)\n",
    "\n",
    "ADULT = 'child'\n",
    "GENDER = 'male'\n",
    "hyper_path = f'SRATE{SRATE}_ECG-{ECG_FILT}_{NORM}_{ADULT}_{GENDER}_{TRAIN}'\n",
    "rootdir = f'randomSearch/best_model/{hyper_path}'\n",
    "model_child_male = best_model(rootdir, ADULT, GENDER)\n",
    "\n",
    "ADULT = 'child'\n",
    "GENDER = 'female'\n",
    "hyper_path = f'SRATE{SRATE}_ECG-{ECG_FILT}_{NORM}_{ADULT}_{GENDER}_{TRAIN}'\n",
    "rootdir = f'randomSearch/best_model/{hyper_path}'\n",
    "model_child_female = best_model(rootdir, ADULT, GENDER)"
   ]
  },
  {
   "cell_type": "markdown",
   "id": "95bfa2a6-4d53-4647-9001-a1ac8e95f1da",
   "metadata": {},
   "source": [
    "### input: signals"
   ]
  },
  {
   "cell_type": "code",
   "execution_count": 23,
   "id": "512a3961-ada7-45e3-b107-25948eb1dc21",
   "metadata": {
    "tags": []
   },
   "outputs": [
    {
     "name": "stderr",
     "output_type": "stream",
     "text": [
      "100%|██████████| 5475/5475 [09:00<00:00, 10.13it/s]\n"
     ]
    }
   ],
   "source": [
    "SRATE = 500\n",
    "TRAIN = 'valid'\n",
    "ADULT = 'adult'\n",
    "NORM = 'z-norm'\n",
    "LEADS = np.arange(12)\n",
    "ECG_FILT = 'bandpass'\n",
    "\n",
    "df_sub = pd.read_csv(f'submission.csv')\n",
    "for idx, row in tqdm(df_sub.iterrows(), total=df_sub.shape[0]):\n",
    "    if 'adult' in row['FILENAME']:\n",
    "        ADULT = 'adult'\n",
    "        model = model_adult_male if row['GENDER'] == 'MALE' else model_adult_female\n",
    "\n",
    "        \n",
    "    else:\n",
    "        ADULT = 'child'\n",
    "        model = model_child_male if row['GENDER'] == 'MALE' else model_child_female\n",
    "          \n",
    "    file_path = f'dataset/ECG_{ADULT}_numpy_valid'\n",
    "    caseid = row['FILENAME']\n",
    "    \n",
    "    seg_ecg = np.load(f'{file_path}/{caseid}.npy')\n",
    "    seg_ecg = ECG_filter(pd.DataFrame(seg_ecg).fillna(method='ffill', axis=0).fillna(method='bfill', axis=0).values.flatten(), method=ECG_FILT, srate=SRATE)\n",
    "    \n",
    "    # invalid ecg\n",
    "    if len(np.unique(seg_ecg)) == 1:\n",
    "        df_sub.loc[idx, 'AGE'] = 65 if ADULT == 'adult' else 4\n",
    "        continue\n",
    "    \n",
    "    # NORM = z-norm\n",
    "    ecg_input = []\n",
    "    for i in LEADS:\n",
    "        ecg_input.append(stats.zscore(seg_ecg[5000*i:5000*(i+1)]))\n",
    "        \n",
    "    if ADULT == 'adult':\n",
    "        df_sub.loc[idx, 'AGE'] = model.predict(np.array(ecg_input).reshape(1,12,5000).transpose((0,2,1)), verbose=0).flatten()[0] * 100\n",
    "    else:\n",
    "        df_sub.loc[idx, 'AGE'] = model.predict(np.array(ecg_input).reshape(1,12,5000).transpose((0,2,1)), verbose=0).flatten()[0] * 20"
   ]
  },
  {
   "cell_type": "code",
   "execution_count": 24,
   "id": "2770e9e7-b753-4c4c-ab4b-7f219290a981",
   "metadata": {},
   "outputs": [
    {
     "data": {
      "text/html": [
       "<div>\n",
       "<style scoped>\n",
       "    .dataframe tbody tr th:only-of-type {\n",
       "        vertical-align: middle;\n",
       "    }\n",
       "\n",
       "    .dataframe tbody tr th {\n",
       "        vertical-align: top;\n",
       "    }\n",
       "\n",
       "    .dataframe thead th {\n",
       "        text-align: right;\n",
       "    }\n",
       "</style>\n",
       "<table border=\"1\" class=\"dataframe\">\n",
       "  <thead>\n",
       "    <tr style=\"text-align: right;\">\n",
       "      <th></th>\n",
       "      <th>FILENAME</th>\n",
       "      <th>GENDER</th>\n",
       "      <th>AGE</th>\n",
       "    </tr>\n",
       "  </thead>\n",
       "  <tbody>\n",
       "    <tr>\n",
       "      <th>0</th>\n",
       "      <td>ecg_child_8781</td>\n",
       "      <td>FEMALE</td>\n",
       "      <td>0.612833</td>\n",
       "    </tr>\n",
       "    <tr>\n",
       "      <th>1</th>\n",
       "      <td>ecg_child_8782</td>\n",
       "      <td>MALE</td>\n",
       "      <td>2.628800</td>\n",
       "    </tr>\n",
       "    <tr>\n",
       "      <th>2</th>\n",
       "      <td>ecg_child_8783</td>\n",
       "      <td>MALE</td>\n",
       "      <td>2.421709</td>\n",
       "    </tr>\n",
       "    <tr>\n",
       "      <th>3</th>\n",
       "      <td>ecg_child_8784</td>\n",
       "      <td>FEMALE</td>\n",
       "      <td>3.958093</td>\n",
       "    </tr>\n",
       "    <tr>\n",
       "      <th>4</th>\n",
       "      <td>ecg_child_8785</td>\n",
       "      <td>FEMALE</td>\n",
       "      <td>1.143933</td>\n",
       "    </tr>\n",
       "    <tr>\n",
       "      <th>...</th>\n",
       "      <td>...</td>\n",
       "      <td>...</td>\n",
       "      <td>...</td>\n",
       "    </tr>\n",
       "    <tr>\n",
       "      <th>5470</th>\n",
       "      <td>ecg_adult_39536</td>\n",
       "      <td>FEMALE</td>\n",
       "      <td>43.767059</td>\n",
       "    </tr>\n",
       "    <tr>\n",
       "      <th>5471</th>\n",
       "      <td>ecg_adult_39537</td>\n",
       "      <td>FEMALE</td>\n",
       "      <td>63.392931</td>\n",
       "    </tr>\n",
       "    <tr>\n",
       "      <th>5472</th>\n",
       "      <td>ecg_adult_39538</td>\n",
       "      <td>FEMALE</td>\n",
       "      <td>55.300808</td>\n",
       "    </tr>\n",
       "    <tr>\n",
       "      <th>5473</th>\n",
       "      <td>ecg_adult_39539</td>\n",
       "      <td>FEMALE</td>\n",
       "      <td>56.270349</td>\n",
       "    </tr>\n",
       "    <tr>\n",
       "      <th>5474</th>\n",
       "      <td>ecg_adult_39540</td>\n",
       "      <td>FEMALE</td>\n",
       "      <td>60.386723</td>\n",
       "    </tr>\n",
       "  </tbody>\n",
       "</table>\n",
       "<p>5475 rows × 3 columns</p>\n",
       "</div>"
      ],
      "text/plain": [
       "             FILENAME  GENDER        AGE\n",
       "0      ecg_child_8781  FEMALE   0.612833\n",
       "1      ecg_child_8782    MALE   2.628800\n",
       "2      ecg_child_8783    MALE   2.421709\n",
       "3      ecg_child_8784  FEMALE   3.958093\n",
       "4      ecg_child_8785  FEMALE   1.143933\n",
       "...               ...     ...        ...\n",
       "5470  ecg_adult_39536  FEMALE  43.767059\n",
       "5471  ecg_adult_39537  FEMALE  63.392931\n",
       "5472  ecg_adult_39538  FEMALE  55.300808\n",
       "5473  ecg_adult_39539  FEMALE  56.270349\n",
       "5474  ecg_adult_39540  FEMALE  60.386723\n",
       "\n",
       "[5475 rows x 3 columns]"
      ]
     },
     "execution_count": 24,
     "metadata": {},
     "output_type": "execute_result"
    }
   ],
   "source": [
    "import pandas as pd\n",
    "\n",
    "#df_subm = pd.read_csv('submission_dl.csv')\n",
    "for idx, row in df_sub.iterrows():\n",
    "    if row['AGE'] < 0:\n",
    "        df_sub.loc[idx, 'AGE'] = 0\n",
    "df_sub.to_csv('submission_dl.csv')\n",
    "\n",
    "df_sub"
   ]
  },
  {
   "cell_type": "code",
   "execution_count": 25,
   "id": "9d1225f1-e8b9-4680-9c6e-480f64586023",
   "metadata": {},
   "outputs": [],
   "source": [
    "df_sub.to_csv('submission_dl.csv')"
   ]
  },
  {
   "cell_type": "markdown",
   "id": "92732c08-01e5-4c7d-add8-1e0730fcabea",
   "metadata": {},
   "source": [
    "### input: signals + features"
   ]
  },
  {
   "cell_type": "code",
   "execution_count": 71,
   "id": "1702398d-43f2-42df-b939-2ed9cd85e923",
   "metadata": {},
   "outputs": [
    {
     "name": "stderr",
     "output_type": "stream",
     "text": [
      " 10%|▉         | 532/5475 [00:52<05:16, 15.64it/s]"
     ]
    },
    {
     "name": "stdout",
     "output_type": "stream",
     "text": [
      "no match ecg_child_9310\n"
     ]
    },
    {
     "name": "stderr",
     "output_type": "stream",
     "text": [
      " 35%|███▍      | 1899/5475 [03:01<05:35, 10.66it/s]"
     ]
    },
    {
     "name": "stdout",
     "output_type": "stream",
     "text": [
      "no match ecg_adult_35940\n"
     ]
    },
    {
     "name": "stderr",
     "output_type": "stream",
     "text": [
      " 46%|████▌     | 2517/5475 [04:03<03:33, 13.88it/s]"
     ]
    },
    {
     "name": "stdout",
     "output_type": "stream",
     "text": [
      "no match ecg_adult_36566\n"
     ]
    },
    {
     "name": "stderr",
     "output_type": "stream",
     "text": [
      "100%|██████████| 5475/5475 [08:49<00:00, 10.35it/s]\n"
     ]
    }
   ],
   "source": [
    "SRATE = 500\n",
    "TRAIN = 'valid'\n",
    "ADULT = 'adult'\n",
    "NORM = 'z-norm'\n",
    "LEADS = np.arange(12)\n",
    "ECG_FILT = 'bandpass'\n",
    "\n",
    "df_sub = pd.read_csv(f'submission.csv')\n",
    "for idx, row in tqdm(df_sub[:].iterrows(), total=df_sub.shape[0]):\n",
    "    if 'adult' in row['FILENAME']:\n",
    "        ADULT = 'adult'\n",
    "        model = model_adult_female if row['GENDER'] == 'FEMALE' else model_adult_male\n",
    "        x_feature = x_feature_adult_f if row['GENDER'] == 'FEMALE' else x_feature_adult_m\n",
    "        caseids = caseid_adult_f if row['GENDER'] == 'FEMALE' else caseid_adult_m\n",
    "        SCALE_Y = 100\n",
    "    else:\n",
    "        ADULT = 'child'\n",
    "        model = model_child_female if row['GENDER'] == 'FEMALE' else model_child_male\n",
    "        x_feature = x_feature_child_f if row['GENDER'] == 'FEMALE' else x_feature_child_m\n",
    "        caseids = caseid_child_f if row['GENDER'] == 'FEMALE' else caseid_child_m\n",
    "        SCALE_Y = 20\n",
    "            \n",
    "    file_path = f'dataset/ECG_{ADULT}_numpy_valid'\n",
    "    caseid = row['FILENAME']\n",
    "    \n",
    "    seg_ecg = np.load(f'{file_path}/{caseid}.npy')\n",
    "    seg_ecg = ECG_filter(pd.DataFrame(seg_ecg).fillna(method='ffill', axis=0).fillna(method='bfill', axis=0).values.flatten(), method=ECG_FILT, srate=SRATE)\n",
    "    \n",
    "    # invalid ecg\n",
    "    if len(np.unique(seg_ecg)) == 1:\n",
    "        df_sub.loc[idx, 'AGE'] = 65 if ADULT == 'adult' else 4\n",
    "        continue\n",
    "    \n",
    "    # NORM = z-norm\n",
    "    ecg_input = []\n",
    "    for i in LEADS:\n",
    "        ecg_input.append(stats.zscore(seg_ecg[5000*i:5000*(i+1)]))\n",
    "\n",
    "  \n",
    "    feat = x_feature[caseids==caseid]\n",
    "    if len(feat)==0:\n",
    "        print('no match', caseid)\n",
    "        df_sub.loc[idx, 'AGE'] = 65 if ADULT == 'adult' else 4\n",
    "        continue\n",
    "        #break\n",
    "    feat = feat[0]\n",
    "\n",
    "    \n",
    "    df_sub.loc[idx, 'AGE'] = model.predict([np.array(ecg_input).reshape(1,12,5000).transpose((0,2,1)), feat.reshape(1,55)], verbose=0).flatten()[0] * SCALE_Y\n",
    "            \n"
   ]
  },
  {
   "cell_type": "code",
   "execution_count": 72,
   "id": "f81092e7-7f01-40f6-81b2-131ce9151c8c",
   "metadata": {},
   "outputs": [
    {
     "data": {
      "text/html": [
       "<div>\n",
       "<style scoped>\n",
       "    .dataframe tbody tr th:only-of-type {\n",
       "        vertical-align: middle;\n",
       "    }\n",
       "\n",
       "    .dataframe tbody tr th {\n",
       "        vertical-align: top;\n",
       "    }\n",
       "\n",
       "    .dataframe thead th {\n",
       "        text-align: right;\n",
       "    }\n",
       "</style>\n",
       "<table border=\"1\" class=\"dataframe\">\n",
       "  <thead>\n",
       "    <tr style=\"text-align: right;\">\n",
       "      <th></th>\n",
       "      <th>FILENAME</th>\n",
       "      <th>GENDER</th>\n",
       "      <th>AGE</th>\n",
       "    </tr>\n",
       "  </thead>\n",
       "  <tbody>\n",
       "    <tr>\n",
       "      <th>0</th>\n",
       "      <td>ecg_child_8781</td>\n",
       "      <td>FEMALE</td>\n",
       "      <td>0.518545</td>\n",
       "    </tr>\n",
       "    <tr>\n",
       "      <th>1</th>\n",
       "      <td>ecg_child_8782</td>\n",
       "      <td>MALE</td>\n",
       "      <td>4.841044</td>\n",
       "    </tr>\n",
       "    <tr>\n",
       "      <th>2</th>\n",
       "      <td>ecg_child_8783</td>\n",
       "      <td>MALE</td>\n",
       "      <td>2.911650</td>\n",
       "    </tr>\n",
       "    <tr>\n",
       "      <th>3</th>\n",
       "      <td>ecg_child_8784</td>\n",
       "      <td>FEMALE</td>\n",
       "      <td>5.333902</td>\n",
       "    </tr>\n",
       "    <tr>\n",
       "      <th>4</th>\n",
       "      <td>ecg_child_8785</td>\n",
       "      <td>FEMALE</td>\n",
       "      <td>0.557445</td>\n",
       "    </tr>\n",
       "    <tr>\n",
       "      <th>...</th>\n",
       "      <td>...</td>\n",
       "      <td>...</td>\n",
       "      <td>...</td>\n",
       "    </tr>\n",
       "    <tr>\n",
       "      <th>5470</th>\n",
       "      <td>ecg_adult_39536</td>\n",
       "      <td>FEMALE</td>\n",
       "      <td>33.181503</td>\n",
       "    </tr>\n",
       "    <tr>\n",
       "      <th>5471</th>\n",
       "      <td>ecg_adult_39537</td>\n",
       "      <td>FEMALE</td>\n",
       "      <td>60.056990</td>\n",
       "    </tr>\n",
       "    <tr>\n",
       "      <th>5472</th>\n",
       "      <td>ecg_adult_39538</td>\n",
       "      <td>FEMALE</td>\n",
       "      <td>45.596287</td>\n",
       "    </tr>\n",
       "    <tr>\n",
       "      <th>5473</th>\n",
       "      <td>ecg_adult_39539</td>\n",
       "      <td>FEMALE</td>\n",
       "      <td>59.301108</td>\n",
       "    </tr>\n",
       "    <tr>\n",
       "      <th>5474</th>\n",
       "      <td>ecg_adult_39540</td>\n",
       "      <td>FEMALE</td>\n",
       "      <td>61.632514</td>\n",
       "    </tr>\n",
       "  </tbody>\n",
       "</table>\n",
       "<p>5475 rows × 3 columns</p>\n",
       "</div>"
      ],
      "text/plain": [
       "             FILENAME  GENDER        AGE\n",
       "0      ecg_child_8781  FEMALE   0.518545\n",
       "1      ecg_child_8782    MALE   4.841044\n",
       "2      ecg_child_8783    MALE   2.911650\n",
       "3      ecg_child_8784  FEMALE   5.333902\n",
       "4      ecg_child_8785  FEMALE   0.557445\n",
       "...               ...     ...        ...\n",
       "5470  ecg_adult_39536  FEMALE  33.181503\n",
       "5471  ecg_adult_39537  FEMALE  60.056990\n",
       "5472  ecg_adult_39538  FEMALE  45.596287\n",
       "5473  ecg_adult_39539  FEMALE  59.301108\n",
       "5474  ecg_adult_39540  FEMALE  61.632514\n",
       "\n",
       "[5475 rows x 3 columns]"
      ]
     },
     "execution_count": 72,
     "metadata": {},
     "output_type": "execute_result"
    }
   ],
   "source": [
    "import pandas as pd\n",
    "\n",
    "#df_subm = pd.read_csv('submission_dl.csv')\n",
    "for idx, row in df_sub.iterrows():\n",
    "    if row['AGE'] < 0:\n",
    "        df_sub.loc[idx, 'AGE'] = 0\n",
    "df_sub.to_csv('submission_dl.csv')\n",
    "\n",
    "df_sub"
   ]
  },
  {
   "cell_type": "code",
   "execution_count": 73,
   "id": "28852c31-e0d7-4e07-922b-ef1678dc59b7",
   "metadata": {},
   "outputs": [
    {
     "data": {
      "text/plain": [
       "(array([1.100e+03, 1.000e+00, 5.000e+01, 2.040e+02, 3.090e+02, 3.530e+02,\n",
       "        5.450e+02, 1.339e+03, 1.308e+03, 2.660e+02]),\n",
       " array([3.10494588e-02, 8.54525394e+00, 1.70594584e+01, 2.55736629e+01,\n",
       "        3.40878674e+01, 4.26020719e+01, 5.11162763e+01, 5.96304808e+01,\n",
       "        6.81446853e+01, 7.66588898e+01, 8.51730943e+01]),\n",
       " <a list of 10 Patch objects>)"
      ]
     },
     "execution_count": 73,
     "metadata": {},
     "output_type": "execute_result"
    },
    {
     "data": {
      "image/png": "[encoded data removed]",
      "text/plain": [
       "<Figure size 640x480 with 1 Axes>"
      ]
     },
     "metadata": {},
     "output_type": "display_data"
    }
   ],
   "source": [
    "plt.hist(df_sub['AGE'].tolist())"
   ]
  },
  {
   "cell_type": "markdown",
   "id": "0a933e8e-56f4-4342-90e8-1597276314c8",
   "metadata": {},
   "source": [
    "### features loading"
   ]
  },
  {
   "cell_type": "code",
   "execution_count": 12,
   "id": "264e25e8-3376-4c36-9377-e6cd100fed89",
   "metadata": {},
   "outputs": [
    {
     "name": "stdout",
     "output_type": "stream",
     "text": [
      "child_final_male\n",
      "feature (589, 55)\n",
      "child_final_female\n",
      "feature (510, 55)\n"
     ]
    }
   ],
   "source": [
    "SRATE = 500\n",
    "ECG_FILT = 'bandpass'\n",
    "ADULT = 'child'\n",
    "NORM = 'z-norm'\n",
    "\n",
    "GENDER = 'male'\n",
    "TRAIN = 'final'\n",
    "hyper_path = f'SRATE{SRATE}_ECG-{ECG_FILT}_{NORM}_{ADULT}_{GENDER}_{TRAIN}'\n",
    "FILENAME = f'dataset/{ADULT}_{TRAIN}_{GENDER}.npz'\n",
    "with np.load(open(FILENAME, 'rb'), allow_pickle=True) as f:\n",
    "    caseid_child_m = f['caseid']\n",
    "    x_feature_child_m = f['X_feature']\n",
    "\n",
    "print(f'{ADULT}_{TRAIN}_{GENDER}')\n",
    "print(f'feature {x_feature_child_m.shape}') #, signal {x_signal_child_m.shape}')\n",
    "\n",
    "\n",
    "GENDER = 'female'\n",
    "TRAIN = 'final'\n",
    "hyper_path = f'SRATE{SRATE}_ECG-{ECG_FILT}_{NORM}_{ADULT}_{GENDER}_{TRAIN}'\n",
    "FILENAME = f'dataset/{ADULT}_{TRAIN}_{GENDER}.npz'\n",
    "with np.load(open(FILENAME, 'rb'), allow_pickle=True) as f:\n",
    "    caseid_child_f = f['caseid']\n",
    "    x_feature_child_f = f['X_feature']\n",
    "\n",
    "print(f'{ADULT}_{TRAIN}_{GENDER}')\n",
    "print(f'feature {x_feature_child_f.shape}') #, signal {x_signal_f.shape}')"
   ]
  },
  {
   "cell_type": "code",
   "execution_count": 13,
   "id": "9e8f6a3d-0ea1-44c1-b3c1-c91d0fbc6062",
   "metadata": {},
   "outputs": [
    {
     "name": "stdout",
     "output_type": "stream",
     "text": [
      "adult_final_male\n",
      "feature (2119, 55)\n",
      "adult_final_female\n",
      "feature (2254, 55)\n"
     ]
    }
   ],
   "source": [
    "SRATE = 500\n",
    "ECG_FILT = 'bandpass'\n",
    "ADULT = 'adult'\n",
    "NORM = 'z-norm'\n",
    "\n",
    "GENDER = 'male'\n",
    "TRAIN = 'final'\n",
    "hyper_path = f'SRATE{SRATE}_ECG-{ECG_FILT}_{NORM}_{ADULT}_{GENDER}_{TRAIN}'\n",
    "FILENAME = f'dataset/{ADULT}_{TRAIN}_{GENDER}.npz'\n",
    "with np.load(open(FILENAME, 'rb'), allow_pickle=True) as f:\n",
    "    caseid_adult_m = f['caseid']\n",
    "    x_feature_adult_m = f['X_feature']\n",
    "\n",
    "print(f'{ADULT}_{TRAIN}_{GENDER}')\n",
    "print(f'feature {x_feature_adult_m.shape}') #, signal {x_signal_adult_m.shape}')\n",
    "\n",
    "\n",
    "GENDER = 'female'\n",
    "TRAIN = 'final'\n",
    "hyper_path = f'SRATE{SRATE}_ECG-{ECG_FILT}_{NORM}_{ADULT}_{GENDER}_{TRAIN}'\n",
    "FILENAME = f'dataset/{ADULT}_{TRAIN}_{GENDER}.npz'\n",
    "with np.load(open(FILENAME, 'rb'), allow_pickle=True) as f:\n",
    "    caseid_adult_f = f['caseid']\n",
    "    x_feature_adult_f = f['X_feature']\n",
    "\n",
    "print(f'{ADULT}_{TRAIN}_{GENDER}')\n",
    "print(f'feature {x_feature_adult_f.shape}') #, signal {x_signal_f.shape}')"
   ]
  },
  {
   "cell_type": "markdown",
   "id": "ea09f7eb-968c-4476-946d-0b5cd1e61462",
   "metadata": {},
   "source": [
    "---"
   ]
  },
  {
   "cell_type": "code",
   "execution_count": 91,
   "id": "1f9d63ea-98dc-48e1-8d3a-c648628fb479",
   "metadata": {},
   "outputs": [
    {
     "data": {
      "text/plain": [
       "[<matplotlib.lines.Line2D at 0x7f3a080d24f0>]"
      ]
     },
     "execution_count": 91,
     "metadata": {},
     "output_type": "execute_result"
    },
    {
     "data": {
      "image/png": "[encoded data removed]",
      "text/plain": [
       "<Figure size 640x480 with 1 Axes>"
      ]
     },
     "metadata": {},
     "output_type": "display_data"
    }
   ],
   "source": [
    "caseid = 'ecg_child_8782'\n",
    "ADULT = 'child'\n",
    "file_path = f'dataset/ECG_{ADULT}_numpy_valid'\n",
    "seg_ecg = np.load(f'{file_path}/{caseid}.npy')\n",
    "\n",
    "plt.plot(seg_ecg[5000*0:5000*1])"
   ]
  },
  {
   "cell_type": "markdown",
   "id": "329ea566-d03c-47e9-b394-2b721c500152",
   "metadata": {},
   "source": [
    "# Validation"
   ]
  },
  {
   "cell_type": "code",
   "execution_count": 6,
   "id": "05a8f015-26f2-41d1-952d-939e49a9dcb7",
   "metadata": {},
   "outputs": [
    {
     "name": "stderr",
     "output_type": "stream",
     "text": [
      "  0%|          | 0/34907 [00:00<?, ?it/s]2023-09-21 01:17:01.744623: I tensorflow/compiler/xla/stream_executor/cuda/cuda_dnn.cc:428] Loaded cuDNN version 8904\n",
      "2023-09-21 01:17:02.792966: I tensorflow/tsl/platform/default/subprocess.cc:304] Start cannot spawn child process: No such file or directory\n",
      "2023-09-21 01:17:02.929098: I tensorflow/compiler/xla/stream_executor/cuda/cuda_blas.cc:630] TensorFloat-32 will be used for the matrix multiplication. This will only be logged once.\n",
      "  1%|          | 282/34907 [00:27<56:30, 10.21it/s]  \n",
      "\n",
      "KeyboardInterrupt\n",
      "\n"
     ]
    }
   ],
   "source": [
    "SRATE = 500\n",
    "TRAIN = 'train'\n",
    "ADULT = 'adult'\n",
    "NORM = 'z-norm'\n",
    "LEADS = np.arange(12)\n",
    "ECG_FILT = 'bandpass'\n",
    "\n",
    "df_sub = pd.read_csv(f'ECG_{ADULT}_age_{TRAIN}.csv')\n",
    "for idx, row in tqdm(df_sub.iterrows(), total=df_sub.shape[0]):\n",
    "    if 'adult' in row['FILENAME']:\n",
    "        ADULT = 'adult'\n",
    "        model = model_adult_male if row['GENDER'] == 'MALE' else model_adult_female\n",
    "    else:\n",
    "        ADULT = 'child'\n",
    "        model = model_child_male if row['GENDER'] == 'MALE' else model_child_female\n",
    "          \n",
    "    file_path = f'dataset/ECG_{ADULT}_numpy_{TRAIN}'\n",
    "    caseid = row['FILENAME']\n",
    "    \n",
    "    seg_ecg = np.load(f'{file_path}/{caseid}.npy')\n",
    "    seg_ecg = ECG_filter(pd.DataFrame(seg_ecg).fillna(method='ffill', axis=0).fillna(method='bfill', axis=0).values.flatten(), method=ECG_FILT, srate=SRATE)\n",
    "    \n",
    "    # invalid ecg\n",
    "    if len(np.unique(seg_ecg)) == 1:\n",
    "        df_sub.loc[idx, 'AGE'] = 65 if ADULT == 'adult' else 4\n",
    "        continue\n",
    "    \n",
    "    # NORM = z-norm\n",
    "    ecg_input = []\n",
    "    for i in LEADS:\n",
    "        ecg_input.append(stats.zscore(seg_ecg[5000*i:5000*(i+1)]))\n",
    "\n",
    "    df_sub.loc[idx, 'AGE'] = model.predict(np.array(ecg_input).reshape(1,12,5000).transpose((0,2,1)), verbose=0).flatten()[0]   "
   ]
  },
  {
   "cell_type": "code",
   "execution_count": null,
   "id": "55a1acbe-72d2-48cd-b047-dd03495aea21",
   "metadata": {},
   "outputs": [],
   "source": []
  }
 ],
 "metadata": {
  "kernelspec": {
   "display_name": "hskim",
   "language": "python",
   "name": "hskim"
  },
  "language_info": {
   "codemirror_mode": {
    "name": "ipython",
    "version": 3
   },
   "file_extension": ".py",
   "mimetype": "text/x-python",
   "name": "python",
   "nbconvert_exporter": "python",
   "pygments_lexer": "ipython3",
   "version": "3.8.18"
  }
 },
 "nbformat": 4,
 "nbformat_minor": 5
}
